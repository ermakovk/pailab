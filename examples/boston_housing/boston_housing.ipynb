{
 "cells": [
  {
   "cell_type": "code",
   "execution_count": 1,
   "metadata": {
    "collapsed": true
   },
   "outputs": [],
   "source": [
    "import pandas as pd\n",
    "import repo.repo as repo\n",
    "import repo.memory_handler as memory_handler\n",
    "from repo.repo_objects import RepoInfoKey, MeasureConfiguration\n",
    "from job_runner.job_runner import SimpleJobRunner, JobState\n",
    "import logging as logging\n",
    "\n",
    "#FORMAT = \"[%(filename)s:%(lineno)s - %(funcName)20s() ] %(message)s\"\n",
    "#logging.basicConfig(format=FORMAT, level=logging.DEBUG)\n",
    "logging.basicConfig(level=logging.ERROR)"
   ]
  },
  {
   "cell_type": "markdown",
   "metadata": {},
   "source": [
    "# Read housing data"
   ]
  },
  {
   "cell_type": "code",
   "execution_count": 2,
   "metadata": {
    "collapsed": true
   },
   "outputs": [],
   "source": [
    "data = pd.read_csv('housing.csv')"
   ]
  },
  {
   "cell_type": "markdown",
   "metadata": {},
   "source": [
    "# Create a new repository"
   ]
  },
  {
   "cell_type": "code",
   "execution_count": 3,
   "metadata": {
    "collapsed": true
   },
   "outputs": [],
   "source": [
    "# setting up the repository\n",
    "handler = memory_handler.RepoObjectMemoryStorage()\n",
    "numpy_handler = memory_handler.NumpyMemoryStorage()\n",
    "job_runner = SimpleJobRunner(None)\n",
    "ml_repo = repo.MLRepo('test_user', handler, numpy_handler, handler, job_runner)\n",
    "job_runner.set_repo(ml_repo)\n",
    "ml_repo._job_runner = job_runner"
   ]
  },
  {
   "cell_type": "markdown",
   "metadata": {},
   "source": [
    "## Adding data\n",
    "The data in the repository is handled by two different data objects:\n",
    "- RawData is the object containing real data.\n",
    "- DataSet is the object conaining the logical data, i.e. a reference to a RawData object together with a specification, which data from the RawData will be used\n",
    "\n",
    "Normally one will add RawData and then define DataSets which are used to train or test a model which is exactly the way shown in the following."
   ]
  },
  {
   "cell_type": "code",
   "execution_count": 4,
   "metadata": {
    "collapsed": true
   },
   "outputs": [],
   "source": [
    "# Add RawData. A convenient way to add RawData is simply to use the method add_data.\n",
    "# This method just takes a pandas dataframe and the specification, which columns belong to the input \n",
    "#and which to the targets.\n",
    "ml_repo.add_data('boston_housing', data, input_variables=['RM', 'LSTAT', 'PTRATIO'], target_variables = ['MEDV'])"
   ]
  },
  {
   "cell_type": "code",
   "execution_count": 5,
   "metadata": {},
   "outputs": [
    {
     "data": {
      "text/plain": [
       "{'repo_mapping': 1, 'test_data': 0, 'training_data': 0}"
      ]
     },
     "execution_count": 5,
     "metadata": {},
     "output_type": "execute_result"
    }
   ],
   "source": [
    "# create DataSet objects for training and test data\n",
    "training_data = repo.DataSet('boston_housing', 0, 300, \n",
    "                            repo_info = {RepoInfoKey.NAME.value: 'training_data', RepoInfoKey.CATEGORY.value: repo.MLObjectType.TRAINING_DATA})\n",
    "test_data = repo.DataSet('boston_housing', 301, -1, \n",
    "                            repo_info = {RepoInfoKey.NAME.value: 'test_data',  RepoInfoKey.CATEGORY.value: repo.MLObjectType.TEST_DATA})\n",
    "# add the objects to the repository\n",
    "ml_repo.add([training_data, test_data], message = 'add training and test data')"
   ]
  },
  {
   "cell_type": "markdown",
   "metadata": {},
   "source": [
    "## Adding sklearn model\n",
    "In the following we want to use models from the sklearn package. For the sklearn package, there is a simple module (externals.sklearn_interface) interfacing \n",
    "the sklearn package so that this can be used within the repository. This interface prvides a simple method (add_model) to add an arbitrary sklearn model as a model which can be handled by the repository. This method adds a bunch of repo objects to the repository:\n",
    "- An object defining the function to be called to evaluate the model\n",
    "- An object defining the function to be called to train the model\n",
    "- An object defining the model\n",
    "- An object defining the model parameter"
   ]
  },
  {
   "cell_type": "code",
   "execution_count": 6,
   "metadata": {
    "collapsed": true
   },
   "outputs": [],
   "source": [
    "import externals.sklearn_interface as sklearn_interface\n",
    "from sklearn.tree import DecisionTreeRegressor\n",
    "sklearn_interface.add_model(ml_repo, DecisionTreeRegressor(), model_param={'max_depth': 5})"
   ]
  },
  {
   "cell_type": "markdown",
   "metadata": {},
   "source": [
    "## Train the model"
   ]
  },
  {
   "cell_type": "code",
   "execution_count": 7,
   "metadata": {
    "collapsed": true
   },
   "outputs": [],
   "source": [
    "job_id = ml_repo.run_training()  "
   ]
  },
  {
   "cell_type": "markdown",
   "metadata": {},
   "source": [
    "## Run evaluation\n",
    "To measure errors and to provide plots the model must be evaluated on all test and training datasets."
   ]
  },
  {
   "cell_type": "code",
   "execution_count": 8,
   "metadata": {
    "collapsed": true
   },
   "outputs": [],
   "source": [
    "job_id = ml_repo.run_evaluation()"
   ]
  },
  {
   "cell_type": "markdown",
   "metadata": {},
   "source": [
    "## Add and compute measures"
   ]
  },
  {
   "cell_type": "code",
   "execution_count": 9,
   "metadata": {
    "collapsed": true
   },
   "outputs": [],
   "source": [
    "ml_repo.add_measure(MeasureConfiguration.MAX)\n",
    "ml_repo.add_measure(MeasureConfiguration.R2)"
   ]
  },
  {
   "cell_type": "code",
   "execution_count": 10,
   "metadata": {
    "collapsed": true
   },
   "outputs": [],
   "source": [
    "job_ids = ml_repo.run_measures()"
   ]
  },
  {
   "cell_type": "code",
   "execution_count": 11,
   "metadata": {},
   "outputs": [
    {
     "name": "stdout",
     "output_type": "stream",
     "text": [
      "223200.0\n",
      "415450.0\n"
     ]
    }
   ],
   "source": [
    "max_measure = ml_repo._get('DecisionTreeRegressor/measure/training_data/max')\n",
    "print(str(max_measure.value))\n",
    "max_measure = ml_repo._get('DecisionTreeRegressor/measure/test_data/max')\n",
    "print(str(max_measure.value))\n"
   ]
  },
  {
   "cell_type": "markdown",
   "metadata": {
    "collapsed": true
   },
   "source": [
    "## Working with the repository"
   ]
  },
  {
   "cell_type": "code",
   "execution_count": 12,
   "metadata": {},
   "outputs": [
    {
     "name": "stdout",
     "output_type": "stream",
     "text": [
      "DecisionTreeRegressor/eval/test_data\t  eval_data\n",
      "DecisionTreeRegressor/eval/training_data\t  eval_data\n",
      "boston_housing\t  raw_data\n",
      "training_data\t  training_data\n",
      "test_data\t  test_data\n",
      "DecisionTreeRegressor/model_param\t  model_param\n",
      "train_sklearn\t  training_function\n",
      "eval_sklearn\t  model_eval_function\n",
      "DecisionTreeRegressor\t  model\n",
      "DecisionTreeRegressor/model\t  calib_model\n",
      "CommitInfo\t  commit_info\n",
      "repo_mapping\t  mapping\n",
      "DecisionTreeRegressor/measure/test_data/max\t  measure\n",
      "DecisionTreeRegressor/measure/test_data/r2\t  measure\n",
      "DecisionTreeRegressor/measure/training_data/max\t  measure\n",
      "DecisionTreeRegressor/measure/training_data/r2\t  measure\n",
      "measure_config\t  measure_config\n"
     ]
    }
   ],
   "source": [
    "for k in repo.MLObjectType:\n",
    "    names = ml_repo.get_names(k.value)\n",
    "    for n in names: \n",
    "        print(n + '\\t  ' + k.value)"
   ]
  },
  {
   "cell_type": "code",
   "execution_count": 13,
   "metadata": {},
   "outputs": [
    {
     "name": "stdout",
     "output_type": "stream",
     "text": [
      "time: 2018-09-29 07:00:52.832833, author: test_user, message: data boston_housing added to repository, objects: {'boston_housing': 0, 'repo_mapping': 0}\n",
      "time: 2018-09-29 07:00:52.885692, author: test_user, message: add training and test data, objects: {'training_data': 0, 'test_data': 0, 'repo_mapping': 1}\n",
      "time: 2018-09-29 07:00:53.625163, author: test_user, message: add model evaluation function eval_sklearn, objects: {'eval_sklearn': 0, 'repo_mapping': 2}\n",
      "time: 2018-09-29 07:00:53.625163, author: test_user, message: add model training function train_sklearn, objects: {'train_sklearn': 0, 'repo_mapping': 3}\n",
      "time: 2018-09-29 07:00:53.625163, author: test_user, message: adding model and training parameter, objects: {'DecisionTreeRegressor/model_param': 0, 'repo_mapping': 4}\n",
      "time: 2018-09-29 07:00:53.625163, author: test_user, message: add model DecisionTreeRegressor, objects: {'DecisionTreeRegressor': 0, 'repo_mapping': 5}\n",
      "time: 2018-09-29 07:00:53.640855, author: test_user, message: training of model DecisionTreeRegressor, objects: {'DecisionTreeRegressor/model': 0, 'repo_mapping': 6}\n",
      "time: 2018-09-29 07:00:53.701703, author: test_user, message: evaluate data test_data with model DecisionTreeRegressor/model, objects: {'DecisionTreeRegressor/eval/test_data': 0, 'repo_mapping': 7}\n",
      "time: 2018-09-29 07:00:53.703698, author: test_user, message: evaluate data training_data with model DecisionTreeRegressor/model, objects: {'DecisionTreeRegressor/eval/training_data': 0, 'repo_mapping': 8}\n",
      "time: 2018-09-29 07:00:53.750429, author: test_user, message: added measure max for coordinates all, objects: {'measure_config': 0, 'repo_mapping': 9}\n",
      "time: 2018-09-29 07:00:53.751426, author: test_user, message: added measure r2 for coordinates all, objects: {'measure_config': 1}\n",
      "time: 2018-09-29 07:00:53.804285, author: test_user, message: computing  measure max on data test_data, objects: {'DecisionTreeRegressor/measure/test_data/max': 0, 'repo_mapping': 10}\n",
      "time: 2018-09-29 07:00:53.806279, author: test_user, message: computing  measure r2 on data test_data, objects: {'DecisionTreeRegressor/measure/test_data/r2': 0, 'repo_mapping': 11}\n",
      "time: 2018-09-29 07:00:53.807277, author: test_user, message: computing  measure max on data training_data, objects: {'DecisionTreeRegressor/measure/training_data/max': 0, 'repo_mapping': 12}\n",
      "time: 2018-09-29 07:00:53.809271, author: test_user, message: computing  measure r2 on data training_data, objects: {'DecisionTreeRegressor/measure/training_data/r2': 0, 'repo_mapping': 13}\n"
     ]
    }
   ],
   "source": [
    "for k in ml_repo.get_commits():\n",
    "    print(str(k))"
   ]
  },
  {
   "cell_type": "code",
   "execution_count": 14,
   "metadata": {},
   "outputs": [
    {
     "name": "stdout",
     "output_type": "stream",
     "text": [
      "a47b79e6-c3a4-11e8-9db9-fc084a6691eb:  test_user, successfully_finished, started 2018-09-29 07:00:53.640855, finished 2018-09-29 07:00:53.640855\n",
      "a4849bc6-c3a4-11e8-bc80-fc084a6691eb:  test_user, successfully_finished, started 2018-09-29 07:00:53.700704, finished 2018-09-29 07:00:53.702701\n",
      "a484e9c6-c3a4-11e8-89dd-fc084a6691eb:  test_user, successfully_finished, started 2018-09-29 07:00:53.702701, finished 2018-09-29 07:00:53.703698\n",
      "a49442f4-c3a4-11e8-ad18-fc084a6691eb:  test_user, successfully_finished, started 2018-09-29 07:00:53.803288, finished 2018-09-29 07:00:53.804285\n",
      "a49469e8-c3a4-11e8-be53-fc084a6691eb:  test_user, successfully_finished, started 2018-09-29 07:00:53.804285, finished 2018-09-29 07:00:53.806279\n",
      "a494b7cc-c3a4-11e8-935f-fc084a6691eb:  test_user, successfully_finished, started 2018-09-29 07:00:53.806279, finished 2018-09-29 07:00:53.807277\n",
      "a494dec8-c3a4-11e8-a3b2-fc084a6691eb:  test_user, successfully_finished, started 2018-09-29 07:00:53.807277, finished 2018-09-29 07:00:53.809271\n"
     ]
    }
   ],
   "source": [
    "for k, v in job_runner._job_info.items():\n",
    "    print(str(k) + ':  ' + str(v))\n",
    "#job_runner.get_info('34484a2c-c225-11e8-9693-fc084a6691eb')"
   ]
  },
  {
   "cell_type": "markdown",
   "metadata": {},
   "source": [
    "## Change model parameter, check consistency and train"
   ]
  },
  {
   "cell_type": "code",
   "execution_count": 15,
   "metadata": {
    "collapsed": true
   },
   "outputs": [],
   "source": [
    "param = ml_repo._get('DecisionTreeRegressor/model_param')\n",
    "param.sklearn_params['max_depth'] = 2\n",
    "version = ml_repo.add(param)"
   ]
  },
  {
   "cell_type": "code",
   "execution_count": 16,
   "metadata": {},
   "outputs": [
    {
     "name": "stdout",
     "output_type": "stream",
     "text": [
      "{'DecisionTreeRegressor/model_param': {'modifier version': 0, 'latest version': 1}}\n"
     ]
    }
   ],
   "source": [
    "import repo.tools as tools\n",
    "#depp = ml_repo._get('DecisionTreeRegressor/model_param')\n",
    "results = tools.check_model(ml_repo, 'DecisionTreeRegressor')\n",
    "print(results)"
   ]
  },
  {
   "cell_type": "code",
   "execution_count": 17,
   "metadata": {},
   "outputs": [
    {
     "data": {
      "text/plain": [
       "UUID('a4c9d806-c3a4-11e8-8e5d-fc084a6691eb')"
      ]
     },
     "execution_count": 17,
     "metadata": {},
     "output_type": "execute_result"
    }
   ],
   "source": [
    "ml_repo.run_training()"
   ]
  },
  {
   "cell_type": "code",
   "execution_count": 18,
   "metadata": {},
   "outputs": [
    {
     "name": "stdout",
     "output_type": "stream",
     "text": [
      "{}\n"
     ]
    }
   ],
   "source": [
    "results = tools.check_model(ml_repo, 'DecisionTreeRegressor')\n",
    "print(results)"
   ]
  },
  {
   "cell_type": "code",
   "execution_count": 19,
   "metadata": {},
   "outputs": [
    {
     "data": {
      "text/plain": [
       "[UUID('a4da477a-c3a4-11e8-9737-fc084a6691eb'),\n",
       " UUID('a4da6e6e-c3a4-11e8-ac4f-fc084a6691eb'),\n",
       " UUID('a4da9564-c3a4-11e8-9819-fc084a6691eb'),\n",
       " UUID('a4dabc5a-c3a4-11e8-9e4f-fc084a6691eb')]"
      ]
     },
     "execution_count": 19,
     "metadata": {},
     "output_type": "execute_result"
    }
   ],
   "source": [
    "ml_repo.run_evaluation()\n",
    "ml_repo.run_measures()"
   ]
  },
  {
   "cell_type": "code",
   "execution_count": 20,
   "metadata": {},
   "outputs": [
    {
     "name": "stdout",
     "output_type": "stream",
     "text": [
      "{'version': 0, 'name': 'DecisionTreeRegressor/measure/test_data/r2', 'history': None, 'classname': 'repo.repo_objects.Measure', 'modification_info': {'DecisionTreeRegressor/eval/test_data': 0, 'DecisionTreeRegressor/model': 0, 'DecisionTreeRegressor/model_param': 0, 'training_data': 0, 'DecisionTreeRegressor': 0, 'test_data': 0}, 'description': None, 'category': 'measure', 'big_objects': [], 'commit_message': 'computing  measure r2 on data test_data'}\n",
      "{'version': 1, 'name': 'DecisionTreeRegressor/measure/test_data/r2', 'history': None, 'classname': 'repo.repo_objects.Measure', 'modification_info': {'DecisionTreeRegressor/eval/test_data': 1, 'DecisionTreeRegressor/model': 1, 'DecisionTreeRegressor/model_param': 1, 'training_data': 0, 'DecisionTreeRegressor': 0, 'test_data': 0}, 'description': None, 'category': 'measure', 'big_objects': [], 'commit_message': 'computing  measure r2 on data test_data'}\n"
     ]
    }
   ],
   "source": [
    "measure = ml_repo._get('DecisionTreeRegressor/measure/test_data/r2',version = (0,100))\n",
    "for x in measure:\n",
    "    print(str(x.repo_info))"
   ]
  },
  {
   "cell_type": "code",
   "execution_count": 21,
   "metadata": {},
   "outputs": [
    {
     "data": {
      "text/plain": [
       "['measure_config']"
      ]
     },
     "execution_count": 21,
     "metadata": {},
     "output_type": "execute_result"
    }
   ],
   "source": [
    "ml_repo.get_names(repo.MLObjectType.MEASURE_CONFIGURATION)"
   ]
  },
  {
   "cell_type": "code",
   "execution_count": 22,
   "metadata": {
    "collapsed": true
   },
   "outputs": [],
   "source": [
    "m = ml_repo._get('DecisionTreeRegressor/measure/training_data/r2')"
   ]
  },
  {
   "cell_type": "code",
   "execution_count": 23,
   "metadata": {},
   "outputs": [
    {
     "data": {
      "text/plain": [
       "\"{'version': 1, 'name': 'DecisionTreeRegressor/measure/training_data/r2', 'history': None, 'classname': 'repo.repo_objects.Measure', 'modification_info': {'DecisionTreeRegressor/eval/training_data': 1, 'DecisionTreeRegressor/model': 1, 'DecisionTreeRegressor/model_param': 1, 'training_data': 0, 'DecisionTreeRegressor': 0}, 'description': None, 'category': 'measure', 'big_objects': [], 'commit_message': 'computing  measure r2 on data training_data'}\""
      ]
     },
     "execution_count": 23,
     "metadata": {},
     "output_type": "execute_result"
    }
   ],
   "source": [
    "str(m.repo_info)"
   ]
  },
  {
   "cell_type": "code",
   "execution_count": null,
   "metadata": {
    "collapsed": true
   },
   "outputs": [],
   "source": []
  },
  {
   "cell_type": "code",
   "execution_count": null,
   "metadata": {
    "collapsed": true
   },
   "outputs": [],
   "source": []
  },
  {
   "cell_type": "code",
   "execution_count": 24,
   "metadata": {},
   "outputs": [
    {
     "name": "stdout",
     "output_type": "stream",
     "text": [
      "{}\n"
     ]
    }
   ],
   "source": [
    "print(results)"
   ]
  },
  {
   "cell_type": "code",
   "execution_count": 25,
   "metadata": {
    "collapsed": true
   },
   "outputs": [],
   "source": [
    "data = ml_repo._get('boston_housing')"
   ]
  },
  {
   "cell_type": "code",
   "execution_count": 26,
   "metadata": {},
   "outputs": [
    {
     "name": "stdout",
     "output_type": "stream",
     "text": [
      "{'version': 0, 'name': 'boston_housing', 'history': None, 'classname': 'repo.repo_objects.RawData', 'modification_info': {}, 'description': None, 'category': <MLObjectType.RAW_DATA: 'raw_data'>, 'big_objects': ['x_data', 'y_data'], 'commit_message': 'data boston_housing added to repository'}\n"
     ]
    }
   ],
   "source": [
    "print(str(data.repo_info))"
   ]
  },
  {
   "cell_type": "markdown",
   "metadata": {
    "collapsed": true
   },
   "source": [
    "# Repo-Analysis"
   ]
  },
  {
   "cell_type": "code",
   "execution_count": 27,
   "metadata": {},
   "outputs": [
    {
     "data": {
      "text/html": [
       "<script>requirejs.config({paths: { 'plotly': ['https://cdn.plot.ly/plotly-latest.min']},});if(!window.Plotly) {{require(['plotly'],function(plotly) {window.Plotly=plotly;});}}</script>"
      ],
      "text/vnd.plotly.v1+html": [
       "<script>requirejs.config({paths: { 'plotly': ['https://cdn.plot.ly/plotly-latest.min']},});if(!window.Plotly) {{require(['plotly'],function(plotly) {window.Plotly=plotly;});}}</script>"
      ]
     },
     "metadata": {},
     "output_type": "display_data"
    }
   ],
   "source": [
    "import repo.plot as plot"
   ]
  },
  {
   "cell_type": "code",
   "execution_count": 28,
   "metadata": {
    "collapsed": true
   },
   "outputs": [],
   "source": [
    "for j in range(2):\n",
    "    training_data = ml_repo._get('training_data')\n",
    "    training_data.end_index += 50\n",
    "    ml_repo.add(training_data, message='just modify version number for demonstration purposes')\n",
    "    for i in range(6,12):\n",
    "        #print(i)\n",
    "        param = ml_repo._get('DecisionTreeRegressor/model_param')\n",
    "        param.sklearn_params['max_depth'] = i\n",
    "        version = ml_repo.add(param)\n",
    "        ml_repo.add(param)\n",
    "        ml_repo.run_training()\n",
    "        ml_repo.run_evaluation()\n",
    "        ml_repo.run_measures()\n",
    "    "
   ]
  },
  {
   "cell_type": "code",
   "execution_count": 29,
   "metadata": {},
   "outputs": [
    {
     "data": {
      "application/vnd.plotly.v1+json": {
       "data": [
        {
         "mode": "markers",
         "name": "training_data: 0",
         "text": [
          "model version: 0.0<br>data_version: 0.0",
          "model version: 1.0<br>data_version: 0.0"
         ],
         "type": "scatter",
         "x": [
          5,
          2
         ],
         "y": [
          0.9214083783891637,
          0.7997532493253947
         ]
        },
        {
         "mode": "markers",
         "name": "training_data: 1",
         "text": [
          "model version: 2.0<br>data_version: 1.0",
          "model version: 3.0<br>data_version: 1.0",
          "model version: 4.0<br>data_version: 1.0",
          "model version: 5.0<br>data_version: 1.0",
          "model version: 6.0<br>data_version: 1.0",
          "model version: 7.0<br>data_version: 1.0",
          "model version: 8.0<br>data_version: 1.0",
          "model version: 9.0<br>data_version: 1.0",
          "model version: 10.0<br>data_version: 1.0"
         ],
         "type": "scatter",
         "x": [
          1,
          2,
          3,
          4,
          5,
          6,
          7,
          8,
          9
         ],
         "y": [
          0.490523148074261,
          0.7302321715139308,
          0.8196890839211805,
          0.8727905123393944,
          0.8971868170547765,
          0.920660394761449,
          0.9445073906288575,
          0.957486514940025,
          0.9715972312482816
         ]
        }
       ],
       "layout": {
        "title": "measure by parameter",
        "xaxis": {
         "title": "max_depth"
        },
        "yaxis": {
         "title": "r2"
        }
       }
      },
      "text/html": [
       "<div id=\"7b4a4c12-a989-43ff-8ef2-d3434ea9cf39\" style=\"height: 525px; width: 100%;\" class=\"plotly-graph-div\"></div><script type=\"text/javascript\">require([\"plotly\"], function(Plotly) { window.PLOTLYENV=window.PLOTLYENV || {};window.PLOTLYENV.BASE_URL=\"https://plot.ly\";Plotly.newPlot(\"7b4a4c12-a989-43ff-8ef2-d3434ea9cf39\", [{\"type\": \"scatter\", \"x\": [5, 2], \"y\": [0.9214083783891637, 0.7997532493253947], \"text\": [\"model version: 0.0<br>data_version: 0.0\", \"model version: 1.0<br>data_version: 0.0\"], \"name\": \"training_data: 0\", \"mode\": \"markers\"}, {\"type\": \"scatter\", \"x\": [1, 2, 3, 4, 5, 6, 7, 8, 9], \"y\": [0.490523148074261, 0.7302321715139308, 0.8196890839211805, 0.8727905123393944, 0.8971868170547765, 0.920660394761449, 0.9445073906288575, 0.957486514940025, 0.9715972312482816], \"text\": [\"model version: 2.0<br>data_version: 1.0\", \"model version: 3.0<br>data_version: 1.0\", \"model version: 4.0<br>data_version: 1.0\", \"model version: 5.0<br>data_version: 1.0\", \"model version: 6.0<br>data_version: 1.0\", \"model version: 7.0<br>data_version: 1.0\", \"model version: 8.0<br>data_version: 1.0\", \"model version: 9.0<br>data_version: 1.0\", \"model version: 10.0<br>data_version: 1.0\"], \"name\": \"training_data: 1\", \"mode\": \"markers\"}], {\"title\": \"measure by parameter\", \"xaxis\": {\"title\": \"max_depth\"}, \"yaxis\": {\"title\": \"r2\"}}, {\"showLink\": true, \"linkText\": \"Export to plot.ly\"})});</script>"
      ],
      "text/vnd.plotly.v1+html": [
       "<div id=\"7b4a4c12-a989-43ff-8ef2-d3434ea9cf39\" style=\"height: 525px; width: 100%;\" class=\"plotly-graph-div\"></div><script type=\"text/javascript\">require([\"plotly\"], function(Plotly) { window.PLOTLYENV=window.PLOTLYENV || {};window.PLOTLYENV.BASE_URL=\"https://plot.ly\";Plotly.newPlot(\"7b4a4c12-a989-43ff-8ef2-d3434ea9cf39\", [{\"type\": \"scatter\", \"x\": [5, 2], \"y\": [0.9214083783891637, 0.7997532493253947], \"text\": [\"model version: 0.0<br>data_version: 0.0\", \"model version: 1.0<br>data_version: 0.0\"], \"name\": \"training_data: 0\", \"mode\": \"markers\"}, {\"type\": \"scatter\", \"x\": [1, 2, 3, 4, 5, 6, 7, 8, 9], \"y\": [0.490523148074261, 0.7302321715139308, 0.8196890839211805, 0.8727905123393944, 0.8971868170547765, 0.920660394761449, 0.9445073906288575, 0.957486514940025, 0.9715972312482816], \"text\": [\"model version: 2.0<br>data_version: 1.0\", \"model version: 3.0<br>data_version: 1.0\", \"model version: 4.0<br>data_version: 1.0\", \"model version: 5.0<br>data_version: 1.0\", \"model version: 6.0<br>data_version: 1.0\", \"model version: 7.0<br>data_version: 1.0\", \"model version: 8.0<br>data_version: 1.0\", \"model version: 9.0<br>data_version: 1.0\", \"model version: 10.0<br>data_version: 1.0\"], \"name\": \"training_data: 1\", \"mode\": \"markers\"}], {\"title\": \"measure by parameter\", \"xaxis\": {\"title\": \"max_depth\"}, \"yaxis\": {\"title\": \"r2\"}}, {\"showLink\": true, \"linkText\": \"Export to plot.ly\"})});</script>"
      ]
     },
     "metadata": {},
     "output_type": "display_data"
    }
   ],
   "source": [
    "#import repo.plot_helper as plt_helper\n",
    "#if False:\n",
    "#print(pd.DataFrame(\n",
    "#plt_helper.get_measure_by_model_parameter(ml_repo, 'DecisionTreeRegressor/measure/test_data/r2', 'max_depth')\n",
    "#))\n",
    "plot.measure_by_model_parameter(ml_repo, 'DecisionTreeRegressor/measure/training_data/r2', 'max_depth')\n"
   ]
  },
  {
   "cell_type": "code",
   "execution_count": 30,
   "metadata": {},
   "outputs": [
    {
     "ename": "TypeError",
     "evalue": "get_info() missing 1 required positional argument: 'jobid'",
     "output_type": "error",
     "traceback": [
      "\u001b[1;31m---------------------------------------------------------------------------\u001b[0m",
      "\u001b[1;31mTypeError\u001b[0m                                 Traceback (most recent call last)",
      "\u001b[1;32m<ipython-input-30-4b21da3e2b0a>\u001b[0m in \u001b[0;36m<module>\u001b[1;34m()\u001b[0m\n\u001b[0;32m      1\u001b[0m \u001b[0mdepp\u001b[0m \u001b[1;33m=\u001b[0m \u001b[0mml_repo\u001b[0m\u001b[1;33m.\u001b[0m\u001b[0m_get\u001b[0m\u001b[1;33m(\u001b[0m \u001b[1;34m'DecisionTreeRegressor/measure/training_data/r2'\u001b[0m\u001b[1;33m,\u001b[0m \u001b[0mversion\u001b[0m \u001b[1;33m=\u001b[0m \u001b[1;33m(\u001b[0m\u001b[1;36m0\u001b[0m\u001b[1;33m,\u001b[0m\u001b[1;36m100\u001b[0m\u001b[1;33m)\u001b[0m\u001b[1;33m)\u001b[0m\u001b[1;33m\u001b[0m\u001b[0m\n\u001b[0;32m      2\u001b[0m \u001b[0mdepp\u001b[0m \u001b[1;33m=\u001b[0m \u001b[0mml_repo\u001b[0m\u001b[1;33m.\u001b[0m\u001b[0m_get\u001b[0m\u001b[1;33m(\u001b[0m \u001b[1;34m'DecisionTreeRegressor/measure/training_data/r2'\u001b[0m\u001b[1;33m,\u001b[0m \u001b[0mversion\u001b[0m \u001b[1;33m=\u001b[0m \u001b[1;33m(\u001b[0m\u001b[1;36m0\u001b[0m\u001b[1;33m,\u001b[0m\u001b[1;36m100\u001b[0m\u001b[1;33m)\u001b[0m\u001b[1;33m)\u001b[0m\u001b[1;33m\u001b[0m\u001b[0m\n\u001b[1;32m----> 3\u001b[1;33m \u001b[0mjob_runner\u001b[0m\u001b[1;33m.\u001b[0m\u001b[0mget_info\u001b[0m\u001b[1;33m(\u001b[0m\u001b[1;33m)\u001b[0m\u001b[1;33m\u001b[0m\u001b[0m\n\u001b[0m",
      "\u001b[1;31mTypeError\u001b[0m: get_info() missing 1 required positional argument: 'jobid'"
     ]
    }
   ],
   "source": [
    "depp = ml_repo._get( 'DecisionTreeRegressor/measure/training_data/r2', version = (0,100))\n",
    "depp = ml_repo._get( 'DecisionTreeRegressor/measure/training_data/r2', version = (0,100))\n",
    "job_runner.get_info()"
   ]
  },
  {
   "cell_type": "code",
   "execution_count": null,
   "metadata": {
    "collapsed": true
   },
   "outputs": [],
   "source": [
    "print(str(depp))"
   ]
  },
  {
   "cell_type": "code",
   "execution_count": null,
   "metadata": {
    "collapsed": true
   },
   "outputs": [],
   "source": []
  }
 ],
 "metadata": {
  "kernelspec": {
   "display_name": "Python 3",
   "language": "python",
   "name": "python3"
  },
  "language_info": {
   "codemirror_mode": {
    "name": "ipython",
    "version": 3
   },
   "file_extension": ".py",
   "mimetype": "text/x-python",
   "name": "python",
   "nbconvert_exporter": "python",
   "pygments_lexer": "ipython3",
   "version": "3.6.0"
  },
  "toc": {
   "colors": {
    "hover_highlight": "#DAA520",
    "navigate_num": "#000000",
    "navigate_text": "#333333",
    "running_highlight": "#FF0000",
    "selected_highlight": "#FFD700",
    "sidebar_border": "#EEEEEE",
    "wrapper_background": "#FFFFFF"
   },
   "moveMenuLeft": true,
   "nav_menu": {
    "height": "12px",
    "width": "252px"
   },
   "navigate_menu": true,
   "number_sections": true,
   "sideBar": true,
   "threshold": 4,
   "toc_cell": false,
   "toc_section_display": "block",
   "toc_window_display": true,
   "widenNotebook": false
  },
  "varInspector": {
   "cols": {
    "lenName": 16,
    "lenType": 16,
    "lenVar": 40
   },
   "kernels_config": {
    "python": {
     "delete_cmd_postfix": "",
     "delete_cmd_prefix": "del ",
     "library": "var_list.py",
     "varRefreshCmd": "print(var_dic_list())"
    },
    "r": {
     "delete_cmd_postfix": ") ",
     "delete_cmd_prefix": "rm(",
     "library": "var_list.r",
     "varRefreshCmd": "cat(var_dic_list()) "
    }
   },
   "types_to_exclude": [
    "module",
    "function",
    "builtin_function_or_method",
    "instance",
    "_Feature"
   ],
   "window_display": false
  }
 },
 "nbformat": 4,
 "nbformat_minor": 2
}
