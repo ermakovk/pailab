{
 "cells": [
  {
   "cell_type": "code",
   "execution_count": 1,
   "metadata": {
    "collapsed": true
   },
   "outputs": [],
   "source": [
    "import pandas as pd\n",
    "import repo.repo as repo #import repo\n",
    "import repo.memory_handler as memory_handler\n",
    "from repo.repo_objects import RepoInfoKey, MeasureConfiguration\n",
    "from job_runner.job_runner import SimpleJobRunner, JobState\n",
    "import logging as logging\n",
    "\n",
    "logging.basicConfig(level=logging.DEBUG)"
   ]
  },
  {
   "cell_type": "markdown",
   "metadata": {},
   "source": [
    "# Read housing data"
   ]
  },
  {
   "cell_type": "code",
   "execution_count": 2,
   "metadata": {
    "collapsed": true
   },
   "outputs": [],
   "source": [
    "data = pd.read_csv('housing.csv')"
   ]
  },
  {
   "cell_type": "markdown",
   "metadata": {},
   "source": [
    "# Create a new repository"
   ]
  },
  {
   "cell_type": "code",
   "execution_count": 3,
   "metadata": {
    "collapsed": true
   },
   "outputs": [],
   "source": [
    "# setting up the repository\n",
    "handler = memory_handler.RepoObjectMemoryStorage()\n",
    "numpy_handler = memory_handler.NumpyMemoryStorage()\n",
    "ml_repo = repo.MLRepo('test_user', handler, numpy_handler, handler, None)\n",
    "job_runner = SimpleJobRunner(ml_repo)\n",
    "ml_repo._job_runner = job_runner"
   ]
  },
  {
   "cell_type": "markdown",
   "metadata": {},
   "source": [
    "## Adding data"
   ]
  },
  {
   "cell_type": "code",
   "execution_count": 4,
   "metadata": {
    "collapsed": true
   },
   "outputs": [],
   "source": [
    "ml_repo.add_data('boston_housing', data, input_variables=['RM', 'LSTAT', 'PTRATIO'], target_variables = ['MEDV'])"
   ]
  },
  {
   "cell_type": "code",
   "execution_count": 5,
   "metadata": {
    "collapsed": true
   },
   "outputs": [],
   "source": [
    "training_data = repo.DataSet('boston_housing', 0, 300, \n",
    "                            repo_info = {RepoInfoKey.NAME.value: 'training_data', RepoInfoKey.CATEGORY.value: repo.MLObjectType.TRAINING_DATA})\n",
    "test_data = repo.DataSet('boston_housing', 301, -1, \n",
    "                            repo_info = {RepoInfoKey.NAME.value: 'test_data',  RepoInfoKey.CATEGORY.value: repo.MLObjectType.TEST_DATA})\n",
    "version_info = ml_repo.add([training_data, test_data], 'add training and test data')"
   ]
  },
  {
   "cell_type": "markdown",
   "metadata": {},
   "source": [
    "## Adding sklearn model"
   ]
  },
  {
   "cell_type": "code",
   "execution_count": 6,
   "metadata": {
    "collapsed": true
   },
   "outputs": [],
   "source": [
    "import externals.sklearn_interface as sklearn_interface\n",
    "from sklearn.tree import DecisionTreeRegressor"
   ]
  },
  {
   "cell_type": "code",
   "execution_count": 7,
   "metadata": {
    "collapsed": true
   },
   "outputs": [],
   "source": [
    "sklearn_interface.add_model(ml_repo, DecisionTreeRegressor(), model_param={'max_depth': 5})"
   ]
  },
  {
   "cell_type": "code",
   "execution_count": 8,
   "metadata": {},
   "outputs": [
    {
     "name": "stderr",
     "output_type": "stream",
     "text": [
      "INFO:root:Training job added to jobrunner, job_id: 46fbedde-bc24-11e8-ba09-fc084a6691eb\n"
     ]
    }
   ],
   "source": [
    "job_id =[ml_repo.run_training()]\n",
    "#job_id = ml_repo.run_evaluation()\n",
    "#len(job_id)"
   ]
  },
  {
   "cell_type": "code",
   "execution_count": 9,
   "metadata": {},
   "outputs": [
    {
     "name": "stdout",
     "output_type": "stream",
     "text": [
      "[UUID('46fbedde-bc24-11e8-ba09-fc084a6691eb')]\n"
     ]
    },
    {
     "data": {
      "text/plain": [
       "['DecisionTreeRegressor']"
      ]
     },
     "execution_count": 9,
     "metadata": {},
     "output_type": "execute_result"
    }
   ],
   "source": [
    "print(job_id)\n",
    "ml_repo.get_names(repo.MLObjectType.CALIBRATED_MODEL.value)\n",
    "ml_repo.get_names(repo.MLObjectType.MODEL.value)"
   ]
  },
  {
   "cell_type": "code",
   "execution_count": 10,
   "metadata": {
    "collapsed": true
   },
   "outputs": [],
   "source": [
    "job_status = job_runner.get_status(job_id[-1])\n",
    "if job_status == JobState.FAILED:\n",
    "    print(job_runner.get_trace_back(job_id[-1]))\n",
    "    job_runner.get_error_message(job_id[-1])"
   ]
  },
  {
   "cell_type": "code",
   "execution_count": 11,
   "metadata": {},
   "outputs": [
    {
     "data": {
      "text/plain": [
       "0"
      ]
     },
     "execution_count": 11,
     "metadata": {},
     "output_type": "execute_result"
    }
   ],
   "source": [
    "mm = ml_repo._get('DecisionTreeRegressor/model')\n",
    "mm.repo_info[RepoInfoKey.MODIFICATION_INFO.value]['DecisionTreeRegressor']\n",
    "mm.repo_info[RepoInfoKey.VERSION]"
   ]
  },
  {
   "cell_type": "code",
   "execution_count": 12,
   "metadata": {},
   "outputs": [
    {
     "name": "stdout",
     "output_type": "stream",
     "text": [
      "time: 2018-09-19 17:54:20.966279, author: test_user, message: data boston_housing added to repository, objects: {'boston_housing': 0, 'repo_mapping': 0}\n",
      "time: 2018-09-19 17:54:21.030747, author: test_user, message: add training and test data, objects: {'training_data': 0, 'test_data': 0, 'repo_mapping': 1}\n",
      "time: 2018-09-19 17:54:23.001679, author: test_user, message: add model evaluation function eval_sklearn, objects: {'eval_sklearn': 0, 'repo_mapping': 2}\n",
      "time: 2018-09-19 17:54:23.001679, author: test_user, message: add model training function train_sklearn, objects: {'train_sklearn': 0, 'repo_mapping': 3}\n",
      "time: 2018-09-19 17:54:23.007617, author: test_user, message: adding model and training parameter, objects: {'DecisionTreeRegressor/model_param': 0, 'repo_mapping': 4}\n",
      "time: 2018-09-19 17:54:23.007617, author: test_user, message: add model DecisionTreeRegressor, objects: {'DecisionTreeRegressor': 0, 'repo_mapping': 5}\n",
      "time: 2018-09-19 17:54:23.056022, author: test_user, message: training of model DecisionTreeRegressor, objects: {'DecisionTreeRegressor/model': 0, 'repo_mapping': 6}\n"
     ]
    }
   ],
   "source": [
    "for k in ml_repo.get_commits():\n",
    "    print(str(k))"
   ]
  },
  {
   "cell_type": "code",
   "execution_count": 26,
   "metadata": {},
   "outputs": [
    {
     "name": "stdout",
     "output_type": "stream",
     "text": [
      "DecisionTreeRegressor/eval/test_data  eval_data\n",
      "DecisionTreeRegressor/eval/training_data  eval_data\n",
      "boston_housing  raw_data\n",
      "training_data  training_data\n",
      "test_data  test_data\n",
      "DecisionTreeRegressor/model_param  model_param\n",
      "train_sklearn  training_function\n",
      "eval_sklearn  model_eval_function\n",
      "DecisionTreeRegressor  model\n",
      "DecisionTreeRegressor/model  calib_model\n",
      "CommitInfo  commit_info\n",
      "repo_mapping  mapping\n",
      "DecisionTreeRegressor/test_data/max  measure\n",
      "DecisionTreeRegressor/training_data/max  measure\n",
      "measure_config  measure_config\n"
     ]
    }
   ],
   "source": [
    "for k in repo.MLObjectType:\n",
    "    names = ml_repo.get_names(k.value)\n",
    "    for n in names: \n",
    "        print(n + '  ' + k.value) "
   ]
  },
  {
   "cell_type": "code",
   "execution_count": 14,
   "metadata": {},
   "outputs": [],
   "source": [
    "param = ml_repo._get('DecisionTreeRegressor/model_param')"
   ]
  },
  {
   "cell_type": "code",
   "execution_count": 15,
   "metadata": {},
   "outputs": [
    {
     "data": {
      "text/plain": [
       "\"{'criterion': 'mse', 'max_depth': 5, 'max_features': None, 'max_leaf_nodes': None, 'min_impurity_split': 1e-07, 'min_samples_leaf': 1, 'min_samples_split': 2, 'min_weight_fraction_leaf': 0.0, 'presort': False, 'random_state': None, 'splitter': 'best'}\""
      ]
     },
     "execution_count": 15,
     "metadata": {},
     "output_type": "execute_result"
    }
   ],
   "source": [
    "str(param.sklearn_params)"
   ]
  },
  {
   "cell_type": "code",
   "execution_count": 16,
   "metadata": {
    "collapsed": true
   },
   "outputs": [],
   "source": [
    "param.sklearn_params['max_depth'] = 3"
   ]
  },
  {
   "cell_type": "code",
   "execution_count": 17,
   "metadata": {},
   "outputs": [
    {
     "data": {
      "text/plain": [
       "1"
      ]
     },
     "execution_count": 17,
     "metadata": {},
     "output_type": "execute_result"
    }
   ],
   "source": [
    "ml_repo.add(param, message='change max_depth to 3')"
   ]
  },
  {
   "cell_type": "code",
   "execution_count": 18,
   "metadata": {},
   "outputs": [
    {
     "name": "stderr",
     "output_type": "stream",
     "text": [
      "INFO:root:Training job added to jobrunner, job_id: 474e847e-bc24-11e8-8fb1-fc084a6691eb\n"
     ]
    }
   ],
   "source": [
    "d = ml_repo.run_training()"
   ]
  },
  {
   "cell_type": "code",
   "execution_count": 19,
   "metadata": {},
   "outputs": [
    {
     "data": {
      "text/plain": [
       "<JobState.SUCCESSFULLY_FINISHED: 'successfully_finished'>"
      ]
     },
     "execution_count": 19,
     "metadata": {},
     "output_type": "execute_result"
    }
   ],
   "source": [
    "job_runner.get_status(d)"
   ]
  },
  {
   "cell_type": "code",
   "execution_count": 20,
   "metadata": {},
   "outputs": [
    {
     "name": "stderr",
     "output_type": "stream",
     "text": [
      "INFO:root:Eval job added to jobrunner, job_id: 475ef94c-bc24-11e8-8e56-fc084a6691eb\n",
      "INFO:root:Eval job added to jobrunner, job_id: 475f955c-bc24-11e8-a326-fc084a6691eb\n"
     ]
    },
    {
     "data": {
      "text/plain": [
       "[UUID('475ef94c-bc24-11e8-8e56-fc084a6691eb'),\n",
       " UUID('475f955c-bc24-11e8-a326-fc084a6691eb')]"
      ]
     },
     "execution_count": 20,
     "metadata": {},
     "output_type": "execute_result"
    }
   ],
   "source": [
    "ml_repo.run_evaluation()"
   ]
  },
  {
   "cell_type": "code",
   "execution_count": 21,
   "metadata": {},
   "outputs": [
    {
     "data": {
      "text/plain": [
       "{UUID('46fbedde-bc24-11e8-ba09-fc084a6691eb'): <JobState.SUCCESSFULLY_FINISHED: 'successfully_finished'>,\n",
       " UUID('474e847e-bc24-11e8-8fb1-fc084a6691eb'): <JobState.SUCCESSFULLY_FINISHED: 'successfully_finished'>,\n",
       " UUID('475ef94c-bc24-11e8-8e56-fc084a6691eb'): <JobState.SUCCESSFULLY_FINISHED: 'successfully_finished'>,\n",
       " UUID('475f955c-bc24-11e8-a326-fc084a6691eb'): <JobState.SUCCESSFULLY_FINISHED: 'successfully_finished'>}"
      ]
     },
     "execution_count": 21,
     "metadata": {},
     "output_type": "execute_result"
    }
   ],
   "source": [
    "job_runner._job_status"
   ]
  },
  {
   "cell_type": "code",
   "execution_count": 22,
   "metadata": {
    "collapsed": true
   },
   "outputs": [],
   "source": [
    "ml_repo.add_measure(MeasureConfiguration.MAX)"
   ]
  },
  {
   "cell_type": "code",
   "execution_count": 23,
   "metadata": {},
   "outputs": [
    {
     "name": "stderr",
     "output_type": "stream",
     "text": [
      "INFO:root:Measure job max added to jobrunner, job_id: 477a909c-bc24-11e8-9708-fc084a6691eb\n",
      "INFO:root:Measure job max added to jobrunner, job_id: 477a909d-bc24-11e8-9c83-fc084a6691eb\n"
     ]
    },
    {
     "name": "stdout",
     "output_type": "stream",
     "text": [
      "running\n",
      "running\n",
      "add measure DecisionTreeRegressor/test_data/max\n",
      "running\n",
      "running\n",
      "add measure DecisionTreeRegressor/training_data/max\n"
     ]
    }
   ],
   "source": [
    "depp = ml_repo.run_measures()\n",
    "#job_runner.get_error_message(depp[0])"
   ]
  },
  {
   "cell_type": "code",
   "execution_count": 24,
   "metadata": {},
   "outputs": [
    {
     "data": {
      "text/plain": [
       "['measure_config']"
      ]
     },
     "execution_count": 24,
     "metadata": {},
     "output_type": "execute_result"
    }
   ],
   "source": [
    "ml_repo.get_names(repo.MLObjectType.MEASURE_CONFIGURATION)"
   ]
  },
  {
   "cell_type": "code",
   "execution_count": 25,
   "metadata": {},
   "outputs": [
    {
     "ename": "KeyError",
     "evalue": "UUID('477a909c-bc24-11e8-9708-fc084a6691eb')",
     "output_type": "error",
     "traceback": [
      "\u001b[1;31m---------------------------------------------------------------------------\u001b[0m",
      "\u001b[1;31mKeyError\u001b[0m                                  Traceback (most recent call last)",
      "\u001b[1;32m<ipython-input-25-dd251901e2af>\u001b[0m in \u001b[0;36m<module>\u001b[1;34m()\u001b[0m\n\u001b[1;32m----> 1\u001b[1;33m \u001b[0mjob_runner\u001b[0m\u001b[1;33m.\u001b[0m\u001b[0mget_error_message\u001b[0m\u001b[1;33m(\u001b[0m\u001b[0mdepp\u001b[0m\u001b[1;33m[\u001b[0m\u001b[1;36m0\u001b[0m\u001b[1;33m]\u001b[0m\u001b[1;33m)\u001b[0m\u001b[1;33m\u001b[0m\u001b[0m\n\u001b[0m\u001b[0;32m      2\u001b[0m \u001b[0mjob_runner\u001b[0m\u001b[1;33m.\u001b[0m\u001b[0mget_trace_back\u001b[0m\u001b[1;33m(\u001b[0m\u001b[0mdepp\u001b[0m\u001b[1;33m[\u001b[0m\u001b[1;36m0\u001b[0m\u001b[1;33m]\u001b[0m\u001b[1;33m)\u001b[0m\u001b[1;33m\u001b[0m\u001b[0m\n",
      "\u001b[1;32m~\\development\\ml_repo\\job_runner\\job_runner.py\u001b[0m in \u001b[0;36mget_error_message\u001b[1;34m(self, jobid)\u001b[0m\n\u001b[0;32m     76\u001b[0m \u001b[1;33m\u001b[0m\u001b[0m\n\u001b[0;32m     77\u001b[0m     \u001b[1;32mdef\u001b[0m \u001b[0mget_error_message\u001b[0m\u001b[1;33m(\u001b[0m\u001b[0mself\u001b[0m\u001b[1;33m,\u001b[0m \u001b[0mjobid\u001b[0m\u001b[1;33m)\u001b[0m\u001b[1;33m:\u001b[0m\u001b[1;33m\u001b[0m\u001b[0m\n\u001b[1;32m---> 78\u001b[1;33m         \u001b[1;32mreturn\u001b[0m \u001b[0mself\u001b[0m\u001b[1;33m.\u001b[0m\u001b[0m_error_message\u001b[0m\u001b[1;33m[\u001b[0m\u001b[0mjobid\u001b[0m\u001b[1;33m]\u001b[0m\u001b[1;33m\u001b[0m\u001b[0m\n\u001b[0m\u001b[0;32m     79\u001b[0m \u001b[1;33m\u001b[0m\u001b[0m\n\u001b[0;32m     80\u001b[0m     \u001b[1;32mdef\u001b[0m \u001b[0mget_trace_back\u001b[0m\u001b[1;33m(\u001b[0m\u001b[0mself\u001b[0m\u001b[1;33m,\u001b[0m \u001b[0mjobid\u001b[0m\u001b[1;33m)\u001b[0m\u001b[1;33m:\u001b[0m  \u001b[1;31m# pragma: no cover\u001b[0m\u001b[1;33m\u001b[0m\u001b[0m\n",
      "\u001b[1;31mKeyError\u001b[0m: UUID('477a909c-bc24-11e8-9708-fc084a6691eb')"
     ]
    }
   ],
   "source": [
    "job_runner.get_error_message(depp[0])\n",
    "job_runner.get_trace_back(depp[0])"
   ]
  },
  {
   "cell_type": "code",
   "execution_count": null,
   "metadata": {
    "collapsed": true
   },
   "outputs": [],
   "source": []
  }
 ],
 "metadata": {
  "kernelspec": {
   "display_name": "Python 3",
   "language": "python",
   "name": "python3"
  },
  "language_info": {
   "codemirror_mode": {
    "name": "ipython",
    "version": 3
   },
   "file_extension": ".py",
   "mimetype": "text/x-python",
   "name": "python",
   "nbconvert_exporter": "python",
   "pygments_lexer": "ipython3",
   "version": "3.6.0"
  },
  "toc": {
   "colors": {
    "hover_highlight": "#DAA520",
    "navigate_num": "#000000",
    "navigate_text": "#333333",
    "running_highlight": "#FF0000",
    "selected_highlight": "#FFD700",
    "sidebar_border": "#EEEEEE",
    "wrapper_background": "#FFFFFF"
   },
   "moveMenuLeft": true,
   "nav_menu": {
    "height": "12px",
    "width": "252px"
   },
   "navigate_menu": true,
   "number_sections": true,
   "sideBar": true,
   "threshold": 4,
   "toc_cell": false,
   "toc_section_display": "block",
   "toc_window_display": false,
   "widenNotebook": false
  },
  "varInspector": {
   "cols": {
    "lenName": 16,
    "lenType": 16,
    "lenVar": 40
   },
   "kernels_config": {
    "python": {
     "delete_cmd_postfix": "",
     "delete_cmd_prefix": "del ",
     "library": "var_list.py",
     "varRefreshCmd": "print(var_dic_list())"
    },
    "r": {
     "delete_cmd_postfix": ") ",
     "delete_cmd_prefix": "rm(",
     "library": "var_list.r",
     "varRefreshCmd": "cat(var_dic_list()) "
    }
   },
   "types_to_exclude": [
    "module",
    "function",
    "builtin_function_or_method",
    "instance",
    "_Feature"
   ],
   "window_display": false
  }
 },
 "nbformat": 4,
 "nbformat_minor": 2
}
