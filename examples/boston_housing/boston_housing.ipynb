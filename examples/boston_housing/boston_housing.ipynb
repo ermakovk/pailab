{
 "cells": [
  {
   "cell_type": "code",
   "execution_count": 1,
   "metadata": {
    "collapsed": true
   },
   "outputs": [],
   "source": [
    "import pandas as pd\n",
    "import repo.repo as repo\n",
    "import repo.memory_handler as memory_handler\n",
    "from repo.repo_objects import RepoInfoKey, MeasureConfiguration\n",
    "from job_runner.job_runner import SimpleJobRunner, JobState\n",
    "import logging as logging\n",
    "\n",
    "#FORMAT = \"[%(filename)s:%(lineno)s - %(funcName)20s() ] %(message)s\"\n",
    "#logging.basicConfig(format=FORMAT, level=logging.DEBUG)\n",
    "logging.basicConfig(level=logging.ERROR)"
   ]
  },
  {
   "cell_type": "markdown",
   "metadata": {},
   "source": [
    "# Read housing data"
   ]
  },
  {
   "cell_type": "code",
   "execution_count": 2,
   "metadata": {},
   "outputs": [
    {
     "data": {
      "text/html": [
       "<div>\n",
       "<style>\n",
       "    .dataframe thead tr:only-child th {\n",
       "        text-align: right;\n",
       "    }\n",
       "\n",
       "    .dataframe thead th {\n",
       "        text-align: left;\n",
       "    }\n",
       "\n",
       "    .dataframe tbody tr th {\n",
       "        vertical-align: top;\n",
       "    }\n",
       "</style>\n",
       "<table border=\"1\" class=\"dataframe\">\n",
       "  <thead>\n",
       "    <tr style=\"text-align: right;\">\n",
       "      <th></th>\n",
       "      <th>RM</th>\n",
       "      <th>LSTAT</th>\n",
       "      <th>PTRATIO</th>\n",
       "      <th>MEDV</th>\n",
       "    </tr>\n",
       "  </thead>\n",
       "  <tbody>\n",
       "    <tr>\n",
       "      <th>0</th>\n",
       "      <td>6.575</td>\n",
       "      <td>4.98</td>\n",
       "      <td>15.3</td>\n",
       "      <td>504000.0</td>\n",
       "    </tr>\n",
       "    <tr>\n",
       "      <th>1</th>\n",
       "      <td>6.421</td>\n",
       "      <td>9.14</td>\n",
       "      <td>17.8</td>\n",
       "      <td>453600.0</td>\n",
       "    </tr>\n",
       "    <tr>\n",
       "      <th>2</th>\n",
       "      <td>7.185</td>\n",
       "      <td>4.03</td>\n",
       "      <td>17.8</td>\n",
       "      <td>728700.0</td>\n",
       "    </tr>\n",
       "    <tr>\n",
       "      <th>3</th>\n",
       "      <td>6.998</td>\n",
       "      <td>2.94</td>\n",
       "      <td>18.7</td>\n",
       "      <td>701400.0</td>\n",
       "    </tr>\n",
       "    <tr>\n",
       "      <th>4</th>\n",
       "      <td>7.147</td>\n",
       "      <td>5.33</td>\n",
       "      <td>18.7</td>\n",
       "      <td>760200.0</td>\n",
       "    </tr>\n",
       "  </tbody>\n",
       "</table>\n",
       "</div>"
      ],
      "text/plain": [
       "      RM  LSTAT  PTRATIO      MEDV\n",
       "0  6.575   4.98     15.3  504000.0\n",
       "1  6.421   9.14     17.8  453600.0\n",
       "2  7.185   4.03     17.8  728700.0\n",
       "3  6.998   2.94     18.7  701400.0\n",
       "4  7.147   5.33     18.7  760200.0"
      ]
     },
     "execution_count": 2,
     "metadata": {},
     "output_type": "execute_result"
    }
   ],
   "source": [
    "data = pd.read_csv('housing.csv')\n",
    "data.head()"
   ]
  },
  {
   "cell_type": "markdown",
   "metadata": {},
   "source": [
    "# Create a new repository"
   ]
  },
  {
   "cell_type": "code",
   "execution_count": 3,
   "metadata": {
    "collapsed": true
   },
   "outputs": [],
   "source": [
    "# setting up the repository\n",
    "handler = memory_handler.RepoObjectMemoryStorage()\n",
    "numpy_handler = memory_handler.NumpyMemoryStorage()\n",
    "job_runner = SimpleJobRunner(None)\n",
    "ml_repo = repo.MLRepo('test_user', handler, numpy_handler, handler, job_runner)\n",
    "job_runner.set_repo(ml_repo)\n",
    "ml_repo._job_runner = job_runner"
   ]
  },
  {
   "cell_type": "markdown",
   "metadata": {},
   "source": [
    "## Adding data\n",
    "The data in the repository is handled by two different data objects:\n",
    "- RawData is the object containing real data.\n",
    "- DataSet is the object conaining the logical data, i.e. a reference to a RawData object together with a specification, which data from the RawData will be used\n",
    "\n",
    "Normally one will add RawData and then define DataSets which are used to train or test a model which is exactly the way shown in the following."
   ]
  },
  {
   "cell_type": "code",
   "execution_count": 4,
   "metadata": {
    "collapsed": true
   },
   "outputs": [],
   "source": [
    "# Add RawData. A convenient way to add RawData is simply to use the method add_data.\n",
    "# This method just takes a pandas dataframe and the specification, which columns belong to the input \n",
    "#and which to the targets.\n",
    "ml_repo.add_data('boston_housing', data, input_variables=['RM', 'LSTAT', 'PTRATIO'], target_variables = ['MEDV'])"
   ]
  },
  {
   "cell_type": "code",
   "execution_count": 5,
   "metadata": {},
   "outputs": [
    {
     "data": {
      "text/plain": [
       "{'repo_mapping': 1, 'test_data': 0, 'training_data': 0}"
      ]
     },
     "execution_count": 5,
     "metadata": {},
     "output_type": "execute_result"
    }
   ],
   "source": [
    "# create DataSet objects for training and test data\n",
    "training_data = repo.DataSet('boston_housing', 0, 300, \n",
    "                            repo_info = {RepoInfoKey.NAME.value: 'training_data', RepoInfoKey.CATEGORY.value: repo.MLObjectType.TRAINING_DATA})\n",
    "test_data = repo.DataSet('boston_housing', 301, -1, \n",
    "                            repo_info = {RepoInfoKey.NAME.value: 'test_data',  RepoInfoKey.CATEGORY.value: repo.MLObjectType.TEST_DATA})\n",
    "# add the objects to the repository\n",
    "ml_repo.add([training_data, test_data], message = 'add training and test data')"
   ]
  },
  {
   "cell_type": "markdown",
   "metadata": {},
   "source": [
    "## Adding sklearn model\n",
    "In the following we want to use models from the sklearn package. For the sklearn package, there is a simple module (externals.sklearn_interface) interfacing \n",
    "the sklearn package so that this can be used within the repository. This interface prvides a simple method (add_model) to add an arbitrary sklearn model as a model which can be handled by the repository. This method adds a bunch of repo objects to the repository:\n",
    "- An object defining the function to be called to evaluate the model\n",
    "- An object defining the function to be called to train the model\n",
    "- An object defining the model\n",
    "- An object defining the model parameter"
   ]
  },
  {
   "cell_type": "code",
   "execution_count": 6,
   "metadata": {
    "collapsed": true
   },
   "outputs": [],
   "source": [
    "import externals.sklearn_interface as sklearn_interface\n",
    "from sklearn.tree import DecisionTreeRegressor\n",
    "sklearn_interface.add_model(ml_repo, DecisionTreeRegressor(), model_param={'max_depth': 5})"
   ]
  },
  {
   "cell_type": "markdown",
   "metadata": {},
   "source": [
    "## Train the model"
   ]
  },
  {
   "cell_type": "code",
   "execution_count": 7,
   "metadata": {
    "collapsed": true
   },
   "outputs": [],
   "source": [
    "job_id = ml_repo.run_training()  "
   ]
  },
  {
   "cell_type": "markdown",
   "metadata": {},
   "source": [
    "## Run evaluation\n",
    "To measure errors and to provide plots the model must be evaluated on all test and training datasets."
   ]
  },
  {
   "cell_type": "code",
   "execution_count": 8,
   "metadata": {
    "collapsed": true
   },
   "outputs": [],
   "source": [
    "job_id = ml_repo.run_evaluation()"
   ]
  },
  {
   "cell_type": "markdown",
   "metadata": {},
   "source": [
    "## Add and compute measures"
   ]
  },
  {
   "cell_type": "code",
   "execution_count": 9,
   "metadata": {
    "collapsed": true
   },
   "outputs": [],
   "source": [
    "ml_repo.add_measure(MeasureConfiguration.MAX)\n",
    "ml_repo.add_measure(MeasureConfiguration.R2)"
   ]
  },
  {
   "cell_type": "code",
   "execution_count": 10,
   "metadata": {
    "collapsed": true
   },
   "outputs": [],
   "source": [
    "job_ids = ml_repo.run_measures()"
   ]
  },
  {
   "cell_type": "code",
   "execution_count": 11,
   "metadata": {},
   "outputs": [
    {
     "name": "stdout",
     "output_type": "stream",
     "text": [
      "223200.0\n",
      "415450.0\n"
     ]
    }
   ],
   "source": [
    "max_measure = ml_repo._get('DecisionTreeRegressor/measure/training_data/max')\n",
    "print(str(max_measure.value))\n",
    "max_measure = ml_repo._get('DecisionTreeRegressor/measure/test_data/max')\n",
    "print(str(max_measure.value))\n"
   ]
  },
  {
   "cell_type": "markdown",
   "metadata": {
    "collapsed": true
   },
   "source": [
    "# Working with the repository"
   ]
  },
  {
   "cell_type": "code",
   "execution_count": 12,
   "metadata": {},
   "outputs": [
    {
     "name": "stdout",
     "output_type": "stream",
     "text": [
      "DecisionTreeRegressor/eval/test_data\t  eval_data\n",
      "DecisionTreeRegressor/eval/training_data\t  eval_data\n",
      "boston_housing\t  raw_data\n",
      "training_data\t  training_data\n",
      "test_data\t  test_data\n",
      "DecisionTreeRegressor/model_param\t  model_param\n",
      "train_sklearn\t  training_function\n",
      "eval_sklearn\t  model_eval_function\n",
      "DecisionTreeRegressor\t  model\n",
      "DecisionTreeRegressor/model\t  calib_model\n",
      "CommitInfo\t  commit_info\n",
      "repo_mapping\t  mapping\n",
      "DecisionTreeRegressor/measure/test_data/max\t  measure\n",
      "DecisionTreeRegressor/measure/test_data/r2\t  measure\n",
      "DecisionTreeRegressor/measure/training_data/max\t  measure\n",
      "DecisionTreeRegressor/measure/training_data/r2\t  measure\n",
      "measure_config\t  measure_config\n"
     ]
    }
   ],
   "source": [
    "for k in repo.MLObjectType:\n",
    "    names = ml_repo.get_names(k.value)\n",
    "    for n in names: \n",
    "        print(n + '\\t  ' + k.value)"
   ]
  },
  {
   "cell_type": "code",
   "execution_count": 13,
   "metadata": {},
   "outputs": [
    {
     "name": "stdout",
     "output_type": "stream",
     "text": [
      "time: 2018-10-05 07:05:36.024599, author: test_user, message: data boston_housing added to repository, objects: {'boston_housing': 0, 'repo_mapping': 0}\n",
      "time: 2018-10-05 07:05:36.044572, author: test_user, message: add training and test data, objects: {'training_data': 0, 'test_data': 0, 'repo_mapping': 1}\n",
      "time: 2018-10-05 07:05:37.032306, author: test_user, message: add model evaluation function eval_sklearn, objects: {'eval_sklearn': 0, 'repo_mapping': 2}\n",
      "time: 2018-10-05 07:05:37.032306, author: test_user, message: add model training function train_sklearn, objects: {'train_sklearn': 0, 'repo_mapping': 3}\n",
      "time: 2018-10-05 07:05:37.032306, author: test_user, message: adding model and training parameter, objects: {'DecisionTreeRegressor/model_param': 0, 'repo_mapping': 4}\n",
      "time: 2018-10-05 07:05:37.032306, author: test_user, message: add model DecisionTreeRegressor, objects: {'DecisionTreeRegressor': 0, 'repo_mapping': 5}\n",
      "time: 2018-10-05 07:05:37.048066, author: test_user, message: training of model DecisionTreeRegressor, objects: {'DecisionTreeRegressor/model': 0, 'repo_mapping': 6}\n",
      "time: 2018-10-05 07:05:37.073890, author: test_user, message: evaluate data test_data with model DecisionTreeRegressor/model, objects: {'DecisionTreeRegressor/eval/test_data': 0, 'repo_mapping': 7}\n",
      "time: 2018-10-05 07:05:37.077886, author: test_user, message: evaluate data training_data with model DecisionTreeRegressor/model, objects: {'DecisionTreeRegressor/eval/training_data': 0, 'repo_mapping': 8}\n",
      "time: 2018-10-05 07:05:37.093862, author: test_user, message: added measure max for coordinates all, objects: {'measure_config': 0, 'repo_mapping': 9}\n",
      "time: 2018-10-05 07:05:37.093862, author: test_user, message: added measure r2 for coordinates all, objects: {'measure_config': 1}\n",
      "time: 2018-10-05 07:05:37.109842, author: test_user, message: computing  measure max on data test_data, objects: {'DecisionTreeRegressor/measure/test_data/max': 0, 'repo_mapping': 10}\n",
      "time: 2018-10-05 07:05:37.113836, author: test_user, message: computing  measure r2 on data test_data, objects: {'DecisionTreeRegressor/measure/test_data/r2': 0, 'repo_mapping': 11}\n",
      "time: 2018-10-05 07:05:37.113836, author: test_user, message: computing  measure max on data training_data, objects: {'DecisionTreeRegressor/measure/training_data/max': 0, 'repo_mapping': 12}\n",
      "time: 2018-10-05 07:05:37.113836, author: test_user, message: computing  measure r2 on data training_data, objects: {'DecisionTreeRegressor/measure/training_data/r2': 0, 'repo_mapping': 13}\n"
     ]
    }
   ],
   "source": [
    "for k in ml_repo.get_commits():\n",
    "    print(str(k))"
   ]
  },
  {
   "cell_type": "code",
   "execution_count": 14,
   "metadata": {},
   "outputs": [
    {
     "name": "stdout",
     "output_type": "stream",
     "text": [
      "4be27c14-c85c-11e8-83d2-fc084a6691eb:  test_user, successfully_finished, started 2018-10-05 07:05:37.048066, finished 2018-10-05 07:05:37.048066\n",
      "4be66cd8-c85c-11e8-b869-fc084a6691eb:  test_user, successfully_finished, started 2018-10-05 07:05:37.073890, finished 2018-10-05 07:05:37.073890\n",
      "4be66cd9-c85c-11e8-a1d7-fc084a6691eb:  test_user, successfully_finished, started 2018-10-05 07:05:37.073890, finished 2018-10-05 07:05:37.077886\n",
      "4bebe934-c85c-11e8-99f0-fc084a6691eb:  test_user, successfully_finished, started 2018-10-05 07:05:37.109842, finished 2018-10-05 07:05:37.109842\n",
      "4bebe935-c85c-11e8-9d1d-fc084a6691eb:  test_user, successfully_finished, started 2018-10-05 07:05:37.109842, finished 2018-10-05 07:05:37.113836\n",
      "4bec853e-c85c-11e8-bed9-fc084a6691eb:  test_user, successfully_finished, started 2018-10-05 07:05:37.113836, finished 2018-10-05 07:05:37.113836\n",
      "4bec853f-c85c-11e8-b7dd-fc084a6691eb:  test_user, successfully_finished, started 2018-10-05 07:05:37.113836, finished 2018-10-05 07:05:37.113836\n"
     ]
    }
   ],
   "source": [
    "for k, v in job_runner._job_info.items():\n",
    "    print(str(k) + ':  ' + str(v))\n",
    "#job_runner.get_info('34484a2c-c225-11e8-9693-fc084a6691eb')"
   ]
  },
  {
   "cell_type": "markdown",
   "metadata": {},
   "source": [
    "## Change model parameter, check consistency and train"
   ]
  },
  {
   "cell_type": "code",
   "execution_count": 15,
   "metadata": {
    "collapsed": true
   },
   "outputs": [],
   "source": [
    "param = ml_repo._get('DecisionTreeRegressor/model_param')\n",
    "param.sklearn_params['max_depth'] = 2\n",
    "version = ml_repo.add(param)"
   ]
  },
  {
   "cell_type": "code",
   "execution_count": 16,
   "metadata": {},
   "outputs": [
    {
     "name": "stdout",
     "output_type": "stream",
     "text": [
      "{'DecisionTreeRegressor/model_param': {'modifier version': 0, 'latest version': 1}}\n"
     ]
    }
   ],
   "source": [
    "import repo.tools as tools\n",
    "#depp = ml_repo._get('DecisionTreeRegressor/model_param')\n",
    "results = tools.check_model(ml_repo, 'DecisionTreeRegressor')\n",
    "print(results)"
   ]
  },
  {
   "cell_type": "code",
   "execution_count": 17,
   "metadata": {},
   "outputs": [
    {
     "data": {
      "text/plain": [
       "UUID('4c013ea6-c85c-11e8-a651-fc084a6691eb')"
      ]
     },
     "execution_count": 17,
     "metadata": {},
     "output_type": "execute_result"
    }
   ],
   "source": [
    "ml_repo.run_training()"
   ]
  },
  {
   "cell_type": "code",
   "execution_count": 18,
   "metadata": {},
   "outputs": [
    {
     "name": "stdout",
     "output_type": "stream",
     "text": [
      "{}\n"
     ]
    }
   ],
   "source": [
    "results = tools.check_model(ml_repo, 'DecisionTreeRegressor')\n",
    "print(results)"
   ]
  },
  {
   "cell_type": "code",
   "execution_count": 19,
   "metadata": {},
   "outputs": [
    {
     "data": {
      "text/plain": [
       "[UUID('4c075711-c85c-11e8-adb9-fc084a6691eb'),\n",
       " UUID('4c07f324-c85c-11e8-a7a4-fc084a6691eb'),\n",
       " UUID('4c07f325-c85c-11e8-9215-fc084a6691eb'),\n",
       " UUID('4c088f28-c85c-11e8-9cac-fc084a6691eb')]"
      ]
     },
     "execution_count": 19,
     "metadata": {},
     "output_type": "execute_result"
    }
   ],
   "source": [
    "ml_repo.run_evaluation()\n",
    "ml_repo.run_measures()"
   ]
  },
  {
   "cell_type": "code",
   "execution_count": 20,
   "metadata": {},
   "outputs": [
    {
     "name": "stdout",
     "output_type": "stream",
     "text": [
      "{'version': 0, 'name': 'DecisionTreeRegressor/measure/test_data/r2', 'history': None, 'classname': 'repo.repo_objects.Measure', 'modification_info': {'DecisionTreeRegressor/eval/test_data': 0, 'DecisionTreeRegressor/model': 0, 'DecisionTreeRegressor/model_param': 0, 'training_data': 0, 'DecisionTreeRegressor': 0, 'test_data': 0}, 'description': None, 'category': 'measure', 'big_objects': [], 'commit_message': 'computing  measure r2 on data test_data'}\n",
      "{'version': 1, 'name': 'DecisionTreeRegressor/measure/test_data/r2', 'history': None, 'classname': 'repo.repo_objects.Measure', 'modification_info': {'DecisionTreeRegressor/eval/test_data': 1, 'DecisionTreeRegressor/model': 1, 'DecisionTreeRegressor/model_param': 1, 'training_data': 0, 'DecisionTreeRegressor': 0, 'test_data': 0}, 'description': None, 'category': 'measure', 'big_objects': [], 'commit_message': 'computing  measure r2 on data test_data'}\n"
     ]
    }
   ],
   "source": [
    "measure = ml_repo._get('DecisionTreeRegressor/measure/test_data/r2',version = (0,100))\n",
    "for x in measure:\n",
    "    print(str(x.repo_info))"
   ]
  },
  {
   "cell_type": "code",
   "execution_count": 21,
   "metadata": {},
   "outputs": [
    {
     "data": {
      "text/plain": [
       "['measure_config']"
      ]
     },
     "execution_count": 21,
     "metadata": {},
     "output_type": "execute_result"
    }
   ],
   "source": [
    "ml_repo.get_names(repo.MLObjectType.MEASURE_CONFIGURATION)"
   ]
  },
  {
   "cell_type": "code",
   "execution_count": 22,
   "metadata": {
    "collapsed": true
   },
   "outputs": [],
   "source": [
    "m = ml_repo._get('DecisionTreeRegressor/measure/training_data/r2')"
   ]
  },
  {
   "cell_type": "code",
   "execution_count": 23,
   "metadata": {},
   "outputs": [
    {
     "data": {
      "text/plain": [
       "\"{'version': 1, 'name': 'DecisionTreeRegressor/measure/training_data/r2', 'history': None, 'classname': 'repo.repo_objects.Measure', 'modification_info': {'DecisionTreeRegressor/eval/training_data': 1, 'DecisionTreeRegressor/model': 1, 'DecisionTreeRegressor/model_param': 1, 'training_data': 0, 'DecisionTreeRegressor': 0}, 'description': None, 'category': 'measure', 'big_objects': [], 'commit_message': 'computing  measure r2 on data training_data'}\""
      ]
     },
     "execution_count": 23,
     "metadata": {},
     "output_type": "execute_result"
    }
   ],
   "source": [
    "str(m.repo_info)"
   ]
  },
  {
   "cell_type": "code",
   "execution_count": 24,
   "metadata": {},
   "outputs": [
    {
     "name": "stdout",
     "output_type": "stream",
     "text": [
      "{}\n"
     ]
    }
   ],
   "source": [
    "print(results)"
   ]
  },
  {
   "cell_type": "code",
   "execution_count": 25,
   "metadata": {
    "collapsed": true
   },
   "outputs": [],
   "source": [
    "data = ml_repo._get('boston_housing')"
   ]
  },
  {
   "cell_type": "code",
   "execution_count": 26,
   "metadata": {},
   "outputs": [
    {
     "name": "stdout",
     "output_type": "stream",
     "text": [
      "{'version': 0, 'name': 'boston_housing', 'history': None, 'classname': 'repo.repo_objects.RawData', 'modification_info': {}, 'description': None, 'category': <MLObjectType.RAW_DATA: 'raw_data'>, 'big_objects': ['x_data', 'y_data'], 'commit_message': 'data boston_housing added to repository'}\n"
     ]
    }
   ],
   "source": [
    "print(str(data.repo_info))"
   ]
  },
  {
   "cell_type": "markdown",
   "metadata": {},
   "source": [
    "## Append RawData"
   ]
  },
  {
   "cell_type": "code",
   "execution_count": 27,
   "metadata": {},
   "outputs": [
    {
     "name": "stdout",
     "output_type": "stream",
     "text": [
      "training_data: {'raw_data': 'boston_housing', 'start_index': 0, 'end_index': 300, 'raw_data_version': 'last', 'x_coord_names': ['RM', 'LSTAT', 'PTRATIO'], 'y_coord_names': ['MEDV'], 'n_data': 489}\n",
      "{'raw_data': 'boston_housing', 'start_index': 301, 'end_index': -1, 'raw_data_version': 'last', 'x_coord_names': ['RM', 'LSTAT', 'PTRATIO'], 'y_coord_names': ['MEDV'], 'n_data': 489} Version: 0\n"
     ]
    }
   ],
   "source": [
    "train_data = ml_repo.get_training_data(full_object = False)\n",
    "print(train_data.repo_info[RepoInfoKey.NAME] +': ' +str(train_data))\n",
    "test_data = ml_repo.get_names(repo.MLObjectType.TEST_DATA)\n",
    "for k in test_data:\n",
    "    t = ml_repo._get(k)\n",
    "    print(str(t)+ ' Version: ' + str(t.repo_info[RepoInfoKey.VERSION]))"
   ]
  },
  {
   "cell_type": "code",
   "execution_count": 28,
   "metadata": {},
   "outputs": [],
   "source": [
    "from numpy import array\n",
    "ml_repo.append_raw_data('boston_housing', x_data = array([[ 6.575, 4.98, 15.3]]), y_data =array([[504000.0]]))"
   ]
  },
  {
   "cell_type": "code",
   "execution_count": 29,
   "metadata": {},
   "outputs": [
    {
     "name": "stdout",
     "output_type": "stream",
     "text": [
      "training_data: {'raw_data': 'boston_housing', 'start_index': 0, 'end_index': 300, 'raw_data_version': 'last', 'x_coord_names': ['RM', 'LSTAT', 'PTRATIO'], 'y_coord_names': ['MEDV'], 'n_data': 489}\n",
      "{'raw_data': 'boston_housing', 'start_index': 301, 'end_index': -1, 'raw_data_version': 1, 'x_coord_names': ['RM', 'LSTAT', 'PTRATIO'], 'y_coord_names': ['MEDV'], 'n_data': 490} Version: 1\n"
     ]
    }
   ],
   "source": [
    "print(train_data.repo_info[RepoInfoKey.NAME] +': ' +str(train_data))\n",
    "for k in test_data:\n",
    "    t = ml_repo._get(k)\n",
    "    print(str(t) + ' Version: ' + str(t.repo_info[RepoInfoKey.VERSION]))"
   ]
  },
  {
   "cell_type": "markdown",
   "metadata": {
    "collapsed": true
   },
   "source": [
    "# Repo-Analysis"
   ]
  },
  {
   "cell_type": "code",
   "execution_count": 30,
   "metadata": {},
   "outputs": [
    {
     "data": {
      "text/html": [
       "<script>requirejs.config({paths: { 'plotly': ['https://cdn.plot.ly/plotly-latest.min']},});if(!window.Plotly) {{require(['plotly'],function(plotly) {window.Plotly=plotly;});}}</script>"
      ],
      "text/vnd.plotly.v1+html": [
       "<script>requirejs.config({paths: { 'plotly': ['https://cdn.plot.ly/plotly-latest.min']},});if(!window.Plotly) {{require(['plotly'],function(plotly) {window.Plotly=plotly;});}}</script>"
      ]
     },
     "metadata": {},
     "output_type": "display_data"
    }
   ],
   "source": [
    "import repo.plot as plot"
   ]
  },
  {
   "cell_type": "code",
   "execution_count": 31,
   "metadata": {
    "collapsed": true
   },
   "outputs": [],
   "source": [
    "for j in range(2):\n",
    "    training_data = ml_repo._get('training_data')\n",
    "    training_data.end_index += 50\n",
    "    ml_repo.add(training_data, message='add 50 datapoints to end_index')\n",
    "    for i in range(6,12):\n",
    "        #print(i)\n",
    "        param = ml_repo._get('DecisionTreeRegressor/model_param')\n",
    "        param.sklearn_params['max_depth'] = i\n",
    "        version = ml_repo.add(param)\n",
    "        ml_repo.add(param)\n",
    "        ml_repo.run_training()\n",
    "        ml_repo.run_evaluation()\n",
    "        ml_repo.run_measures()\n",
    "    "
   ]
  },
  {
   "cell_type": "code",
   "execution_count": 32,
   "metadata": {},
   "outputs": [
    {
     "data": {
      "application/vnd.plotly.v1+json": {
       "data": [
        {
         "mode": "markers",
         "name": "test_data: 0",
         "text": [
          "model version: 0.0<br>test_data: 0.0<br>train_data: 0.0",
          "model version: 1.0<br>test_data: 0.0<br>train_data: 0.0"
         ],
         "type": "scatter",
         "x": [
          5,
          2
         ],
         "y": [
          -0.39357478010295743,
          -0.5603645701979256
         ]
        }
       ],
       "layout": {
        "title": "measure by parameter",
        "xaxis": {
         "title": "max_depth"
        },
        "yaxis": {
         "title": "r2"
        }
       }
      },
      "text/html": [
       "<div id=\"82637228-39a2-490e-92bc-254ab96cf060\" style=\"height: 525px; width: 100%;\" class=\"plotly-graph-div\"></div><script type=\"text/javascript\">require([\"plotly\"], function(Plotly) { window.PLOTLYENV=window.PLOTLYENV || {};window.PLOTLYENV.BASE_URL=\"https://plot.ly\";Plotly.newPlot(\"82637228-39a2-490e-92bc-254ab96cf060\", [{\"type\": \"scatter\", \"x\": [5, 2], \"y\": [-0.39357478010295743, -0.5603645701979256], \"text\": [\"model version: 0.0<br>test_data: 0.0<br>train_data: 0.0\", \"model version: 1.0<br>test_data: 0.0<br>train_data: 0.0\"], \"name\": \"test_data: 0\", \"mode\": \"markers\"}], {\"title\": \"measure by parameter\", \"xaxis\": {\"title\": \"max_depth\"}, \"yaxis\": {\"title\": \"r2\"}}, {\"showLink\": true, \"linkText\": \"Export to plot.ly\"})});</script>"
      ],
      "text/vnd.plotly.v1+html": [
       "<div id=\"82637228-39a2-490e-92bc-254ab96cf060\" style=\"height: 525px; width: 100%;\" class=\"plotly-graph-div\"></div><script type=\"text/javascript\">require([\"plotly\"], function(Plotly) { window.PLOTLYENV=window.PLOTLYENV || {};window.PLOTLYENV.BASE_URL=\"https://plot.ly\";Plotly.newPlot(\"82637228-39a2-490e-92bc-254ab96cf060\", [{\"type\": \"scatter\", \"x\": [5, 2], \"y\": [-0.39357478010295743, -0.5603645701979256], \"text\": [\"model version: 0.0<br>test_data: 0.0<br>train_data: 0.0\", \"model version: 1.0<br>test_data: 0.0<br>train_data: 0.0\"], \"name\": \"test_data: 0\", \"mode\": \"markers\"}], {\"title\": \"measure by parameter\", \"xaxis\": {\"title\": \"max_depth\"}, \"yaxis\": {\"title\": \"r2\"}}, {\"showLink\": true, \"linkText\": \"Export to plot.ly\"})});</script>"
      ]
     },
     "metadata": {},
     "output_type": "display_data"
    }
   ],
   "source": [
    "#import repo.plot_helper as plt_helper\n",
    "#if False:\n",
    "#print(pd.DataFrame(\n",
    "#plt_helper.get_measure_by_model_parameter(ml_repo, 'DecisionTreeRegressor/measure/test_data/r2', 'max_depth')\n",
    "#))\n",
    "plot.measure_by_model_parameter(ml_repo, 'DecisionTreeRegressor/measure/test_data/r2', 'max_depth')\n"
   ]
  },
  {
   "cell_type": "code",
   "execution_count": 33,
   "metadata": {},
   "outputs": [
    {
     "name": "stdout",
     "output_type": "stream",
     "text": [
      "{'raw_data': 'boston_housing', 'start_index': 0, 'end_index': 300, 'raw_data_version': 'last', 'x_coord_names': ['RM', 'LSTAT', 'PTRATIO'], 'y_coord_names': ['MEDV'], 'n_data': 490}, version: 0\n",
      "{'raw_data': 'boston_housing', 'start_index': 0, 'end_index': 350, 'raw_data_version': 'last', 'x_coord_names': ['RM', 'LSTAT', 'PTRATIO'], 'y_coord_names': ['MEDV'], 'n_data': 490}, version: 1\n",
      "{'raw_data': 'boston_housing', 'start_index': 0, 'end_index': 400, 'raw_data_version': 'last', 'x_coord_names': ['RM', 'LSTAT', 'PTRATIO'], 'y_coord_names': ['MEDV'], 'n_data': 490}, version: 2\n"
     ]
    }
   ],
   "source": [
    "depp = ml_repo._get( 'training_data', version = (0,100))\n",
    "#print(str(depp))\n",
    "for x in depp:\n",
    "    print(str(x)+ ', version: ' + str(x.repo_info[RepoInfoKey.VERSION]))"
   ]
  },
  {
   "cell_type": "code",
   "execution_count": 34,
   "metadata": {},
   "outputs": [
    {
     "name": "stdout",
     "output_type": "stream",
     "text": [
      "[<repo.repo.DataSet object at 0x000001B4432599B0>, <repo.repo.DataSet object at 0x000001B44323FA58>, <repo.repo.DataSet object at 0x000001B44323F550>]\n"
     ]
    }
   ],
   "source": [
    "print(str(depp))"
   ]
  },
  {
   "cell_type": "code",
   "execution_count": 35,
   "metadata": {},
   "outputs": [
    {
     "data": {
      "text/plain": [
       "'None'"
      ]
     },
     "execution_count": 35,
     "metadata": {},
     "output_type": "execute_result"
    }
   ],
   "source": [
    "str(None)"
   ]
  },
  {
   "cell_type": "code",
   "execution_count": null,
   "metadata": {
    "collapsed": true
   },
   "outputs": [],
   "source": []
  }
 ],
 "metadata": {
  "kernelspec": {
   "display_name": "Python 3",
   "language": "python",
   "name": "python3"
  },
  "language_info": {
   "codemirror_mode": {
    "name": "ipython",
    "version": 3
   },
   "file_extension": ".py",
   "mimetype": "text/x-python",
   "name": "python",
   "nbconvert_exporter": "python",
   "pygments_lexer": "ipython3",
   "version": "3.6.0"
  },
  "toc": {
   "colors": {
    "hover_highlight": "#DAA520",
    "navigate_num": "#000000",
    "navigate_text": "#333333",
    "running_highlight": "#FF0000",
    "selected_highlight": "#FFD700",
    "sidebar_border": "#EEEEEE",
    "wrapper_background": "#FFFFFF"
   },
   "moveMenuLeft": true,
   "nav_menu": {
    "height": "12px",
    "width": "252px"
   },
   "navigate_menu": true,
   "number_sections": true,
   "sideBar": true,
   "threshold": 4,
   "toc_cell": false,
   "toc_position": {
    "height": "786px",
    "left": "0px",
    "right": "1470.45px",
    "top": "65.9943px",
    "width": "260px"
   },
   "toc_section_display": "block",
   "toc_window_display": true,
   "widenNotebook": false
  },
  "varInspector": {
   "cols": {
    "lenName": 16,
    "lenType": 16,
    "lenVar": 40
   },
   "kernels_config": {
    "python": {
     "delete_cmd_postfix": "",
     "delete_cmd_prefix": "del ",
     "library": "var_list.py",
     "varRefreshCmd": "print(var_dic_list())"
    },
    "r": {
     "delete_cmd_postfix": ") ",
     "delete_cmd_prefix": "rm(",
     "library": "var_list.r",
     "varRefreshCmd": "cat(var_dic_list()) "
    }
   },
   "types_to_exclude": [
    "module",
    "function",
    "builtin_function_or_method",
    "instance",
    "_Feature"
   ],
   "window_display": false
  }
 },
 "nbformat": 4,
 "nbformat_minor": 2
}
