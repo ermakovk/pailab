{
 "cells": [
  {
   "cell_type": "markdown",
   "metadata": {},
   "source": [
    "# Starting a simple SQLite JobRunner"
   ]
  },
  {
   "cell_type": "code",
   "execution_count": 1,
   "metadata": {},
   "outputs": [],
   "source": [
    "from job_runner.job_runner import SQLiteJobRunner\n",
    "from repo.disk_handler import RepoObjectDiskStorage\n",
    "from repo.numpy_handler_hdf import NumpyHDFStorage\n",
    "import repo.repo as repo\n",
    "\n",
    "import logging\n",
    "#You may set the loglevel and log-format here. \n",
    "#Note that the repository uses the logging module.\n",
    "#FORMAT = \"[%(filename)s:%(lineno)s - %(funcName)20s() ] %(message)s\"\n",
    "#logging.basicConfig(format=FORMAT, level=logging.DEBUG)\n",
    "logging.basicConfig(level=logging.DEBUG)"
   ]
  },
  {
   "cell_type": "code",
   "execution_count": null,
   "metadata": {},
   "outputs": [
    {
     "name": "stderr",
     "output_type": "stream",
     "text": [
      "INFO:root:Get mapping.\n",
      "INFO:root:Executing: select category from mapping where name = 'repo_mapping'\n",
      "INFO:root:Executing: select version from versions where name = 'repo_mapping' order by uuid_time DESC LIMIT 1\n",
      "INFO:root:Executing: select file from versions where name = 'repo_mapping' and version = '52278e02-d7ad-11e8-bff7-fc084a6691eb'\n"
     ]
    }
   ],
   "source": [
    "handler = RepoObjectDiskStorage('c:/temp/boston_housing_repo')\n",
    "numpy_handler = NumpyHDFStorage('c:/temp/boston_housing_repo') \n",
    "job_runner = SQLiteJobRunner('c:/temp/job_runner.sqlite', None)\n",
    "ml_repo = repo.MLRepo('test_user', handler, numpy_handler, handler, job_runner)\n",
    "job_runner.set_repo(ml_repo)"
   ]
  },
  {
   "cell_type": "code",
   "execution_count": null,
   "metadata": {},
   "outputs": [
    {
     "name": "stderr",
     "output_type": "stream",
     "text": [
      "DEBUG:root:Executing: select job_name, job_version from jobs where job_state = 'waiting' order by insert_time desc\n",
      "INFO:root:Start running job DecisionTreeRegressor/jobs/training, version 521892e2-d7ad-11e8-baca-fc084a6691eb\n",
      "DEBUG:root:Executing: update jobs SET start_time = '2018-10-24 18:53:31.013792', job_state='running'\n",
      "DEBUG:root:Getting DecisionTreeRegressor/jobs/training, version 521892e2-d7ad-11e8-baca-fc084a6691eb\n",
      "INFO:root:Executing: select category from mapping where name = 'DecisionTreeRegressor/jobs/training'\n",
      "INFO:root:Executing: select file from versions where name = 'DecisionTreeRegressor/jobs/training' and version = '521892e2-d7ad-11e8-baca-fc084a6691eb'\n",
      "DEBUG:root:Getting DecisionTreeRegressor, version last\n",
      "INFO:root:Executing: select category from mapping where name = 'DecisionTreeRegressor'\n",
      "INFO:root:Executing: select version from versions where name = 'DecisionTreeRegressor' order by uuid_time DESC LIMIT 1\n",
      "INFO:root:Executing: select file from versions where name = 'DecisionTreeRegressor' and version = '51fa18e2-d7ad-11e8-aad9-fc084a6691eb'\n",
      "DEBUG:root:Getting training_data, version last\n",
      "INFO:root:Executing: select category from mapping where name = 'training_data'\n",
      "INFO:root:Executing: select version from versions where name = 'training_data' order by uuid_time DESC LIMIT 1\n",
      "INFO:root:Executing: select file from versions where name = 'training_data' and version = '4facab64-d7ad-11e8-8be7-fc084a6691eb'\n",
      "DEBUG:root:Getting boston_housing, version last\n",
      "INFO:root:Executing: select category from mapping where name = 'boston_housing'\n",
      "INFO:root:Executing: select version from versions where name = 'boston_housing' order by uuid_time DESC LIMIT 1\n",
      "INFO:root:Executing: select file from versions where name = 'boston_housing' and version = '4f85a8ca-d7ad-11e8-b2fc-fc084a6691eb'\n",
      "INFO:repo.numpy_handler_hdf:Entering get\n",
      "DEBUG:root:Reading object boston_housing from hdf5, group /data/4f85a8ca-d7ad-11e8-b2fc-fc084a6691eb/\n",
      "INFO:repo.numpy_handler_hdf:Exit get\n",
      "DEBUG:root:Getting train_sklearn, version last\n",
      "INFO:root:Executing: select category from mapping where name = 'train_sklearn'\n",
      "INFO:root:Executing: select version from versions where name = 'train_sklearn' order by uuid_time DESC LIMIT 1\n",
      "INFO:root:Executing: select file from versions where name = 'train_sklearn' and version = '51be36c8-d7ad-11e8-8c61-fc084a6691eb'\n",
      "DEBUG:root:Getting DecisionTreeRegressor/model_param, version last\n",
      "INFO:root:Executing: select category from mapping where name = 'DecisionTreeRegressor/model_param'\n",
      "INFO:root:Executing: select version from versions where name = 'DecisionTreeRegressor/model_param' order by uuid_time DESC LIMIT 1\n",
      "INFO:root:Executing: select file from versions where name = 'DecisionTreeRegressor/model_param' and version = '51db5026-d7ad-11e8-8319-fc084a6691eb'\n",
      "INFO:root:Executing: select * from mapping where name = 'DecisionTreeRegressor/model'\n",
      "INFO:root:Executing: insert into mapping (name, category) VALUES ('DecisionTreeRegressor/model', 'CALIBRATED_MODEL')\n",
      "INFO:root:Executing: insert into versions (name, version, file, uuid_time) VALUES('DecisionTreeRegressor/model', '56b6cec2-d7ad-11e8-ac71-fc084a6691eb','CALIBRATED_MODEL/DecisionTreeRegressor/model//56b6cec2-d7ad-11e8-ac71-fc084a6691eb.json','2018-10-24 16:53:31.893523')\n",
      "INFO:root:Executing: insert into modification_info (name, version, modifier, modifier_version, modifier_uuid_time) VALUES ('DecisionTreeRegressor/model','56b6cec2-d7ad-11e8-ac71-fc084a6691eb','DecisionTreeRegressor/model_param','51db5026-d7ad-11e8-8319-fc084a6691eb','2018-10-24 16:53:23.744157')\n",
      "INFO:root:Executing: insert into modification_info (name, version, modifier, modifier_version, modifier_uuid_time) VALUES ('DecisionTreeRegressor/model','56b6cec2-d7ad-11e8-ac71-fc084a6691eb','training_data','4facab64-d7ad-11e8-8be7-fc084a6691eb','2018-10-24 16:53:20.083030')\n",
      "INFO:root:Executing: insert into modification_info (name, version, modifier, modifier_version, modifier_uuid_time) VALUES ('DecisionTreeRegressor/model','56b6cec2-d7ad-11e8-ac71-fc084a6691eb','DecisionTreeRegressor','51fa18e2-d7ad-11e8-aad9-fc084a6691eb','2018-10-24 16:53:23.945904')\n",
      "DEBUG:root:Write object as json file with filename CALIBRATED_MODEL/DecisionTreeRegressor/model//56b6cec2-d7ad-11e8-ac71-fc084a6691eb.json\n",
      "DEBUG:root:Executing: update jobs SET job_state='failed', error_message='Object of type DecisionTreeRegressor is not JSON serializable', stack_trace='Traceback (most recent call last):\n",
      "  File \"C:\\Users\\Anwender\\development\\ml_repo\\job_runner\\job_runner.py\", line 171, in _run_job\n",
      "    job.run(self._repo, 0)\n",
      "  File \"C:\\Users\\Anwender\\development\\ml_repo\\repo\\repo.py\", line 284, in run\n",
      "    repo.add(m, training of model  + self.model)\n",
      "  File \"C:\\Users\\Anwender\\development\\ml_repo\\repo\\repo.py\", line 589, in add\n",
      "    result[obj.repo_info[repo_objects.RepoInfoKey.NAME]], mapping_changed_tmp = self._add(obj, message, category)\n",
      "  File \"C:\\Users\\Anwender\\development\\ml_repo\\repo\\repo.py\", line 561, in _add\n",
      "    version = self._ml_repo.add(obj_dict)\n",
      "  File \"C:\\Users\\Anwender\\development\\ml_repo\\repo\\disk_handler.py\", line 159, in add\n",
      "    json.dump(obj, f, cls=RepoObjectDiskStorage.CustomEncoder)\n",
      "  File \"C:\\Users\\Anwender\\Anaconda3\\lib\\json\\__init__.py\", line 179, in dump\n",
      "    for chunk in iterable:\n",
      "  File \"C:\\Users\\Anwender\\Anaconda3\\lib\\json\\encoder.py\", line 430, in _iterencode\n",
      "    yield from _iterencode_dict(o, _current_indent_level)\n",
      "  File \"C:\\Users\\Anwender\\Anaconda3\\lib\\json\\encoder.py\", line 404, in _iterencode_dict\n",
      "    yield from chunks\n",
      "  File \"C:\\Users\\Anwender\\Anaconda3\\lib\\json\\encoder.py\", line 437, in _iterencode\n",
      "    o = _default(o)\n",
      "  File \"C:\\Users\\Anwender\\development\\ml_repo\\repo\\disk_handler.py\", line 30, in default\n",
      "    return json.JSONEncoder.default(self, obj)\n",
      "  File \"C:\\Users\\Anwender\\Anaconda3\\lib\\json\\encoder.py\", line 180, in default\n",
      "    o.__class__.__name__)\n",
      "TypeError: Object of type DecisionTreeRegressor is not JSON serializable\n",
      "', end_time='2018-10-24 18:53:31.994537' where job_name = 'DecisionTreeRegressor/jobs/training' and job_version = '521892e2-d7ad-11e8-baca-fc084a6691eb'\n",
      "ERROR:root:Finished running job DecisionTreeRegressor/jobs/training, version 521892e2-d7ad-11e8-baca-fc084a6691eb with errors: Object of type 'DecisionTreeRegressor' is not JSON serializable   stacktrace: Traceback (most recent call last):\n",
      "  File \"C:\\Users\\Anwender\\development\\ml_repo\\job_runner\\job_runner.py\", line 171, in _run_job\n",
      "    job.run(self._repo, 0)\n",
      "  File \"C:\\Users\\Anwender\\development\\ml_repo\\repo\\repo.py\", line 284, in run\n",
      "    repo.add(m, 'training of model ' + self.model)\n",
      "  File \"C:\\Users\\Anwender\\development\\ml_repo\\repo\\repo.py\", line 589, in add\n",
      "    result[obj.repo_info[repo_objects.RepoInfoKey.NAME]], mapping_changed_tmp = self._add(obj, message, category)\n",
      "  File \"C:\\Users\\Anwender\\development\\ml_repo\\repo\\repo.py\", line 561, in _add\n",
      "    version = self._ml_repo.add(obj_dict)\n",
      "  File \"C:\\Users\\Anwender\\development\\ml_repo\\repo\\disk_handler.py\", line 159, in add\n",
      "    json.dump(obj, f, cls=RepoObjectDiskStorage.CustomEncoder)\n",
      "  File \"C:\\Users\\Anwender\\Anaconda3\\lib\\json\\__init__.py\", line 179, in dump\n",
      "    for chunk in iterable:\n",
      "  File \"C:\\Users\\Anwender\\Anaconda3\\lib\\json\\encoder.py\", line 430, in _iterencode\n",
      "    yield from _iterencode_dict(o, _current_indent_level)\n",
      "  File \"C:\\Users\\Anwender\\Anaconda3\\lib\\json\\encoder.py\", line 404, in _iterencode_dict\n",
      "    yield from chunks\n",
      "  File \"C:\\Users\\Anwender\\Anaconda3\\lib\\json\\encoder.py\", line 437, in _iterencode\n",
      "    o = _default(o)\n",
      "  File \"C:\\Users\\Anwender\\development\\ml_repo\\repo\\disk_handler.py\", line 30, in default\n",
      "    return json.JSONEncoder.default(self, obj)\n",
      "  File \"C:\\Users\\Anwender\\Anaconda3\\lib\\json\\encoder.py\", line 180, in default\n",
      "    o.__class__.__name__)\n",
      "TypeError: Object of type 'DecisionTreeRegressor' is not JSON serializable\n",
      "\n",
      "DEBUG:root:Executing: select job_name, job_version from jobs where job_state = 'waiting' order by insert_time desc\n",
      "DEBUG:root:Executing: select job_name, job_version from jobs where job_state = 'waiting' order by insert_time desc\n",
      "DEBUG:root:Executing: select job_name, job_version from jobs where job_state = 'waiting' order by insert_time desc\n",
      "DEBUG:root:Executing: select job_name, job_version from jobs where job_state = 'waiting' order by insert_time desc\n"
     ]
    },
    {
     "name": "stderr",
     "output_type": "stream",
     "text": [
      "DEBUG:root:Executing: select job_name, job_version from jobs where job_state = 'waiting' order by insert_time desc\n",
      "DEBUG:root:Executing: select job_name, job_version from jobs where job_state = 'waiting' order by insert_time desc\n",
      "DEBUG:root:Executing: select job_name, job_version from jobs where job_state = 'waiting' order by insert_time desc\n",
      "DEBUG:root:Executing: select job_name, job_version from jobs where job_state = 'waiting' order by insert_time desc\n",
      "DEBUG:root:Executing: select job_name, job_version from jobs where job_state = 'waiting' order by insert_time desc\n",
      "DEBUG:root:Executing: select job_name, job_version from jobs where job_state = 'waiting' order by insert_time desc\n",
      "DEBUG:root:Executing: select job_name, job_version from jobs where job_state = 'waiting' order by insert_time desc\n",
      "DEBUG:root:Executing: select job_name, job_version from jobs where job_state = 'waiting' order by insert_time desc\n",
      "DEBUG:root:Executing: select job_name, job_version from jobs where job_state = 'waiting' order by insert_time desc\n",
      "DEBUG:root:Executing: select job_name, job_version from jobs where job_state = 'waiting' order by insert_time desc\n",
      "DEBUG:root:Executing: select job_name, job_version from jobs where job_state = 'waiting' order by insert_time desc\n",
      "DEBUG:root:Executing: select job_name, job_version from jobs where job_state = 'waiting' order by insert_time desc\n",
      "DEBUG:root:Executing: select job_name, job_version from jobs where job_state = 'waiting' order by insert_time desc\n",
      "DEBUG:root:Executing: select job_name, job_version from jobs where job_state = 'waiting' order by insert_time desc\n",
      "DEBUG:root:Executing: select job_name, job_version from jobs where job_state = 'waiting' order by insert_time desc\n",
      "DEBUG:root:Executing: select job_name, job_version from jobs where job_state = 'waiting' order by insert_time desc\n",
      "DEBUG:root:Executing: select job_name, job_version from jobs where job_state = 'waiting' order by insert_time desc\n",
      "DEBUG:root:Executing: select job_name, job_version from jobs where job_state = 'waiting' order by insert_time desc\n",
      "DEBUG:root:Executing: select job_name, job_version from jobs where job_state = 'waiting' order by insert_time desc\n",
      "DEBUG:root:Executing: select job_name, job_version from jobs where job_state = 'waiting' order by insert_time desc\n",
      "DEBUG:root:Executing: select job_name, job_version from jobs where job_state = 'waiting' order by insert_time desc\n",
      "DEBUG:root:Executing: select job_name, job_version from jobs where job_state = 'waiting' order by insert_time desc\n",
      "DEBUG:root:Executing: select job_name, job_version from jobs where job_state = 'waiting' order by insert_time desc\n"
     ]
    }
   ],
   "source": [
    "job_runner.run()"
   ]
  },
  {
   "cell_type": "code",
   "execution_count": null,
   "metadata": {
    "collapsed": true
   },
   "outputs": [],
   "source": []
  }
 ],
 "metadata": {
  "kernelspec": {
   "display_name": "Python 3",
   "language": "python",
   "name": "python3"
  },
  "language_info": {
   "codemirror_mode": {
    "name": "ipython",
    "version": 3
   },
   "file_extension": ".py",
   "mimetype": "text/x-python",
   "name": "python",
   "nbconvert_exporter": "python",
   "pygments_lexer": "ipython3",
   "version": "3.6.0"
  },
  "toc": {
   "colors": {
    "hover_highlight": "#DAA520",
    "navigate_num": "#000000",
    "navigate_text": "#333333",
    "running_highlight": "#FF0000",
    "selected_highlight": "#FFD700",
    "sidebar_border": "#EEEEEE",
    "wrapper_background": "#FFFFFF"
   },
   "moveMenuLeft": true,
   "nav_menu": {
    "height": "12px",
    "width": "252px"
   },
   "navigate_menu": true,
   "number_sections": true,
   "sideBar": true,
   "threshold": 4,
   "toc_cell": false,
   "toc_position": {
    "height": "786px",
    "left": "0px",
    "right": "1470.45px",
    "top": "65.9943px",
    "width": "260px"
   },
   "toc_section_display": "block",
   "toc_window_display": true,
   "widenNotebook": false
  },
  "varInspector": {
   "cols": {
    "lenName": 16,
    "lenType": 16,
    "lenVar": 40
   },
   "kernels_config": {
    "python": {
     "delete_cmd_postfix": "",
     "delete_cmd_prefix": "del ",
     "library": "var_list.py",
     "varRefreshCmd": "print(var_dic_list())"
    },
    "r": {
     "delete_cmd_postfix": ") ",
     "delete_cmd_prefix": "rm(",
     "library": "var_list.r",
     "varRefreshCmd": "cat(var_dic_list()) "
    }
   },
   "types_to_exclude": [
    "module",
    "function",
    "builtin_function_or_method",
    "instance",
    "_Feature"
   ],
   "window_display": false
  }
 },
 "nbformat": 4,
 "nbformat_minor": 2
}
