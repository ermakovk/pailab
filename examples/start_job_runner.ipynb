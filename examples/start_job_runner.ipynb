{
 "cells": [
  {
   "cell_type": "markdown",
   "metadata": {},
   "source": [
    "# Starting a simple SQLite JobRunner"
   ]
  },
  {
   "cell_type": "code",
   "execution_count": 1,
   "metadata": {},
   "outputs": [],
   "source": [
    "from pailab.job_runner.job_runner import SQLiteJobRunner\n",
    "from pailab.ml_repo.disk_handler import RepoObjectDiskStorage\n",
    "from pailab.ml_repo.numpy_handler_hdf import NumpyHDFStorage\n",
    "import pailab.ml_repo.repo as repo\n",
    "\n",
    "import logging\n",
    "logging.basicConfig(level=logging.DEBUG, filename='C:\\\\temp\\\\job_runner_1.log', format = '%(asctime)s ; %(name)s ; %(filename)s ; %(lineno)d ; %(levelname)s ; %(message)s')"
   ]
  },
  {
   "cell_type": "markdown",
   "metadata": {},
   "source": [
    "The JobRunner needs access to the MLRepo in order to retreive all objects needed within a job. Therefore we have to construct an MLRepo. Here, we assume that such an MLRepo does already exist in the workspace `c:\\temp`. If you use this notebook to start a client for the [boston_housing_distributed](https://nbviewer.jupyter.org/github/pailabteam/pailab/blob/develop/examples/boston_housing/boston_housing_distributed.ipynb), simply use the same workspace as defined in the repo settings there."
   ]
  },
  {
   "cell_type": "code",
   "execution_count": 2,
   "metadata": {
    "collapsed": true
   },
   "outputs": [],
   "source": [
    "ml_repo = repo.MLRepo(user='job_runner_user', workspace='c:/temp')"
   ]
  },
  {
   "cell_type": "code",
   "execution_count": null,
   "metadata": {
    "collapsed": true
   },
   "outputs": [],
   "source": [
    "job_runner = SQLiteJobRunner('c:/temp/job_runner.sqlite', ml_repo, sleep=1)"
   ]
  },
  {
   "cell_type": "markdown",
   "metadata": {},
   "source": [
    "Now we can start the job runner. The job runner will poll on the sqlite database defined above searching for jobs to execute. To get a feeling how this works, you can tell the jobrunner to just execute one job and then finish. For this, you specify max_steps defining the number of job executions before the client stos. If you do not specify this parameter, the client runs until it is killed."
   ]
  },
  {
   "cell_type": "code",
   "execution_count": null,
   "metadata": {},
   "outputs": [],
   "source": [
    "job_runner.run()#max_steps=100000)"
   ]
  },
  {
   "cell_type": "code",
   "execution_count": null,
   "metadata": {
    "collapsed": true
   },
   "outputs": [],
   "source": []
  }
 ],
 "metadata": {
  "kernelspec": {
   "display_name": "Python 3",
   "language": "python",
   "name": "python3"
  },
  "language_info": {
   "codemirror_mode": {
    "name": "ipython",
    "version": 3
   },
   "file_extension": ".py",
   "mimetype": "text/x-python",
   "name": "python",
   "nbconvert_exporter": "python",
   "pygments_lexer": "ipython3",
   "version": "3.6.1"
  },
  "toc": {
   "base_numbering": 1,
   "nav_menu": {
    "height": "12px",
    "width": "252px"
   },
   "number_sections": true,
   "sideBar": true,
   "skip_h1_title": false,
   "title_cell": "Table of Contents",
   "title_sidebar": "Contents",
   "toc_cell": false,
   "toc_position": {
    "height": "786px",
    "left": "0px",
    "right": "1470.45px",
    "top": "65.9943px",
    "width": "260px"
   },
   "toc_section_display": "block",
   "toc_window_display": true
  },
  "varInspector": {
   "cols": {
    "lenName": 16,
    "lenType": 16,
    "lenVar": 40
   },
   "kernels_config": {
    "python": {
     "delete_cmd_postfix": "",
     "delete_cmd_prefix": "del ",
     "library": "var_list.py",
     "varRefreshCmd": "print(var_dic_list())"
    },
    "r": {
     "delete_cmd_postfix": ") ",
     "delete_cmd_prefix": "rm(",
     "library": "var_list.r",
     "varRefreshCmd": "cat(var_dic_list()) "
    }
   },
   "types_to_exclude": [
    "module",
    "function",
    "builtin_function_or_method",
    "instance",
    "_Feature"
   ],
   "window_display": false
  }
 },
 "nbformat": 4,
 "nbformat_minor": 2
}
