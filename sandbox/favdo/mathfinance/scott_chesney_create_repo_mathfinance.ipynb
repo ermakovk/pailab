{
 "cells": [
  {
   "cell_type": "markdown",
   "metadata": {
    "collapsed": true,
    "slideshow": {
     "slide_type": "slide"
    }
   },
   "source": [
    "# Initial setup"
   ]
  },
  {
   "cell_type": "code",
   "execution_count": 1,
   "metadata": {
    "collapsed": true,
    "slideshow": {
     "slide_type": "subslide"
    }
   },
   "outputs": [],
   "source": [
    "import numpy as np\n",
    "import datetime as dt\n",
    "import tensorflow as tf\n",
    "from pailab import MLRepo, MeasureConfiguration, MLObjectType, FIRST_VERSION, LAST_VERSION\n",
    "import logging\n",
    "from pailab.tools import MLTree\n",
    "\n",
    "logging.basicConfig(level=logging.ERROR)"
   ]
  },
  {
   "cell_type": "code",
   "execution_count": 2,
   "metadata": {
    "code_folding": [],
    "collapsed": true
   },
   "outputs": [],
   "source": [
    "config = {'user': 'test_user',\n",
    "          'workspace': 'c:/ml_repos/sc_mathfinance',\n",
    "          'repo_store': \n",
    "          {\n",
    "              'type': 'git_handler',  \n",
    "              'config': {\n",
    "                  'folder': 'c:/ml_repos/sc_mathfinance/objects', \n",
    "                  'file_format': 'json'\n",
    "              }\n",
    "          },\n",
    "          'numpy_store':\n",
    "          {\n",
    "              'type': 'hdf_handler',\n",
    "              'config':{\n",
    "                  'folder': 'c:/ml_repos/sc_mathfinance/hdf',\n",
    "                  'version_files': True\n",
    "              }\n",
    "          }\n",
    "         }\n",
    "ml_repo = MLRepo(config = config, save_config = True)\n",
    "\n",
    "from pailab.tools import MLTree\n",
    "MLTree.add_tree(ml_repo)"
   ]
  },
  {
   "cell_type": "code",
   "execution_count": 3,
   "metadata": {
    "collapsed": true
   },
   "outputs": [],
   "source": [
    "# add raw data\n",
    "data_dir = 'C:\\\\ml_repos\\\\orig_data_sc'\n",
    "x_names = ['initial_variance', 'speed_of_meanreversion', 'long_run_variance', 'vol_of_variance', 'correlation', 'strike', 'expiry']\n",
    "y_names = ['call price']\n",
    "ml_repo.tree.raw_data.add_from_numpy_file('sc_data', data_dir + '\\\\sc_params_825000.npy', x_names,\n",
    "              data_dir+ '\\\\prices_825000.npy', y_names )"
   ]
  },
  {
   "cell_type": "code",
   "execution_count": 4,
   "metadata": {
    "collapsed": true
   },
   "outputs": [],
   "source": [
    "# add training and test data\n",
    "ml_repo.tree.training_data.add('sc_call_prices', 'sc_data', end_index = 10000)"
   ]
  },
  {
   "cell_type": "code",
   "execution_count": 5,
   "metadata": {
    "collapsed": true
   },
   "outputs": [],
   "source": [
    "#add test data\n",
    "ml_repo.tree.test_data.add('sc_call_prices_test', 'sc_data', start_index = 10001, end_index = 100000)"
   ]
  },
  {
   "cell_type": "markdown",
   "metadata": {},
   "source": [
    "# Measures"
   ]
  },
  {
   "cell_type": "code",
   "execution_count": 6,
   "metadata": {
    "collapsed": true
   },
   "outputs": [],
   "source": [
    "ml_repo.add_measure(MeasureConfiguration.MAX)\n",
    "ml_repo.add_measure(MeasureConfiguration.R2)"
   ]
  },
  {
   "cell_type": "markdown",
   "metadata": {},
   "source": [
    "# Add tests"
   ]
  },
  {
   "cell_type": "code",
   "execution_count": 7,
   "metadata": {},
   "outputs": [
    {
     "data": {
      "text/plain": [
       "'f5945490-40ad-11e9-a4a7-fc084a6691eb'"
      ]
     },
     "execution_count": 7,
     "metadata": {},
     "output_type": "execute_result"
    }
   ],
   "source": [
    "import pailab.tests\n",
    "reg_test = pailab.tests.RegressionTestDefinition(reference='candidate', models=None, data=None, labels=None, measures=None,  tol=1e-3)\n",
    "reg_test.repo_info.name='reg_test'\n",
    "#reg_test.repo_info.category = MLObjectType.TEST_DEFINITION\n",
    "ml_repo.add(reg_test, message='regression test definition')"
   ]
  },
  {
   "cell_type": "code",
   "execution_count": null,
   "metadata": {
    "collapsed": true
   },
   "outputs": [],
   "source": []
  },
  {
   "cell_type": "code",
   "execution_count": null,
   "metadata": {
    "collapsed": true
   },
   "outputs": [],
   "source": []
  }
 ],
 "metadata": {
  "celltoolbar": "Slideshow",
  "kernelspec": {
   "display_name": "Python 3",
   "language": "python",
   "name": "python3"
  },
  "language_info": {
   "codemirror_mode": {
    "name": "ipython",
    "version": 3
   },
   "file_extension": ".py",
   "mimetype": "text/x-python",
   "name": "python",
   "nbconvert_exporter": "python",
   "pygments_lexer": "ipython3",
   "version": "3.6.1"
  },
  "toc": {
   "base_numbering": 1,
   "colors": {
    "hover_highlight": "#DAA520",
    "navigate_num": "#000000",
    "navigate_text": "#333333",
    "running_highlight": "#FF0000",
    "selected_highlight": "#FFD700",
    "sidebar_border": "#EEEEEE",
    "wrapper_background": "#FFFFFF"
   },
   "moveMenuLeft": true,
   "nav_menu": {
    "height": "12px",
    "width": "252px"
   },
   "navigate_menu": true,
   "number_sections": true,
   "sideBar": true,
   "skip_h1_title": false,
   "threshold": 4,
   "title_cell": "Table of Contents",
   "title_sidebar": "Contents",
   "toc_cell": false,
   "toc_position": {
    "height": "843px",
    "left": "0px",
    "right": "1600px",
    "top": "106px",
    "width": "322.173px"
   },
   "toc_section_display": "block",
   "toc_window_display": true,
   "widenNotebook": false
  },
  "varInspector": {
   "cols": {
    "lenName": 16,
    "lenType": 16,
    "lenVar": 40
   },
   "kernels_config": {
    "python": {
     "delete_cmd_postfix": "",
     "delete_cmd_prefix": "del ",
     "library": "var_list.py",
     "varRefreshCmd": "print(var_dic_list())"
    },
    "r": {
     "delete_cmd_postfix": ") ",
     "delete_cmd_prefix": "rm(",
     "library": "var_list.r",
     "varRefreshCmd": "cat(var_dic_list()) "
    }
   },
   "types_to_exclude": [
    "module",
    "function",
    "builtin_function_or_method",
    "instance",
    "_Feature"
   ],
   "window_display": false
  }
 },
 "nbformat": 4,
 "nbformat_minor": 2
}
