{
 "cells": [
  {
   "cell_type": "code",
   "execution_count": 2,
   "metadata": {},
   "outputs": [
    {
     "data": {
      "text/plain": [
       "'1.10.0'"
      ]
     },
     "execution_count": 2,
     "metadata": {},
     "output_type": "execute_result"
    }
   ],
   "source": [
    "import numpy as np\n",
    "import datetime as dt\n",
    "import tensorflow as tf\n",
    "from pailab import MLRepo, MeasureConfiguration, MLObjectType\n",
    "import logging\n",
    "\n",
    "logging.basicConfig(level=logging.FATAL)\n",
    "tf.VERSION"
   ]
  },
  {
   "cell_type": "code",
   "execution_count": 3,
   "metadata": {
    "collapsed": true
   },
   "outputs": [],
   "source": [
    "ml_repo = MLRepo('test_user', repo_dir='c:/ml_repos/sc')"
   ]
  },
  {
   "cell_type": "markdown",
   "metadata": {},
   "source": [
    "### Setup repo"
   ]
  },
  {
   "cell_type": "code",
   "execution_count": null,
   "metadata": {
    "code_folding": [
     6
    ],
    "collapsed": true
   },
   "outputs": [],
   "source": [
    "if True:\n",
    "    filename_X = 'C:\\\\Users\\\\Anwender\\\\development\\\\RIVACON\\\\iqual\\\\experiments\\\\sc\\\\sc_params_600015.npy'\n",
    "    filename_Y = 'C:\\\\Users\\\\Anwender\\\\development\\\\RIVACON\\\\iqual\\\\experiments\\\\sc\\\\prices_600015.npy'  \n",
    "    ml_repo.raw_data.add_from_numpy_file('sc', filename_X,['initial_variance', 'speed_of_mean_reversion', \n",
    "                                                           'long_run_variance', 'vol_of_variance', 'correlation', 'strike', 'expiry'], filename_Y, ['price'] )\n",
    "    ml_repo.training_data.add('training_small','sc', 0, 30000)\n",
    "    ml_repo.test_data.add('training_small','sc', 30001, 60000)\n",
    "    ml_repo.add_measure(MeasureConfiguration.MSE)\n",
    "    ml_repo.add_measure(MeasureConfiguration.R2)\n",
    "    ml_repo.add_measure(MeasureConfiguration.MAX)\n",
    "    \n",
    "    \n",
    "    \n",
    "#the following is for demonstration how to generate data by simulation only\n",
    "if False: #create new data\n",
    "    import pyvacon.analytics as analytics\n",
    "    import pyvacon.tools.converter as converter\n",
    "    import pyvacon.models.converter as model_converter\n",
    "    import pyvacon.models.tools as model_tools\n",
    "    import random\n",
    "    import math\n",
    "    simtimes_p = range(1,3*365)\n",
    "    refdate = analytics.ptime(2017, 1, 1, 0, 0, 0)\n",
    "    num_threads = 2\n",
    "    nsims = 10000\n",
    "    ntimesteps_per_year = 365\n",
    "    spot = 1.0\n",
    "    n_strikes_per_sample = 5\n",
    "    expiry_intervalls =  [[10,365],[366, 2*365], [2*365+1,3*365]]\n",
    "    n_expiries_per_sample = len(expiry_intervalls)\n",
    "    n_samples = 40000\n",
    "    n_overall_samples = n_samples *n_strikes_per_sample*n_expiries_per_sample\n",
    "    X_result = np.empty((n_overall_samples, 5 + 2))\n",
    "    Y_result = np.empty((n_overall_samples, 1))\n",
    "    variance_min = math.log(0.05)\n",
    "    variance_max = math.log(1.2)\n",
    "    counter = 0\n",
    "    for i in range(n_samples):\n",
    "        if i % 5000 == 0:\n",
    "            print('sample ' + str(i))\n",
    "        initial_variance = random.uniform(variance_min, variance_max)\n",
    "        speed_of_meanreversion = random.uniform(0.1, 5.0)\n",
    "        long_run_variance = random.uniform(variance_min, variance_max)\n",
    "        vol_of_variance = random.uniform(0.01, 1.2)\n",
    "        correlation = random.uniform(-0.9,0.9)\n",
    "        model = analytics.ScottChesneyModel('t', refdate, spot, initial_variance, speed_of_meanreversion, long_run_variance, vol_of_variance, correlation)\n",
    "        \n",
    "        tmp = np.random.random_integers(10,3*365, n_expiries_per_sample)\n",
    "        simtimes_p = []\n",
    "        for d in range(n_expiries_per_sample):\n",
    "            simtimes_p.append( int(np.random.randint(expiry_intervalls[d][0],expiry_intervalls[d][1])) )\n",
    "        simtimes = converter.createPTimeList(refdate, simtimes_p)\n",
    "        \n",
    "        tmp = analytics.ModelLab(model, refdate)\n",
    "        seed = np.random.randint(1,1024)\n",
    "        #print('sample ' + str(i) + '  seed ' + str(seed))\n",
    "        tmp.simulate(simtimes, nsims,ntimesteps_per_year, num_threads, seed)\n",
    "        for t in range(len(simtimes_p)):\n",
    "            expiry_index = simtimes_p[t]\n",
    "            expiry_yf = (expiry_index+1)/365.0\n",
    "            strikes = np.random.uniform(0.5,1.5, n_strikes_per_sample)\n",
    "            prices = model_tools.compute_statistics(tmp, strikes, t, 0, lambda x, y: max(x-y,0.0))\n",
    "            #put_prices = model_tools.compute_statistics(tmp, strikes_puts, expiry_index, 0, lambda x, y: max(y-x,0.0))\n",
    "            #print(put_prices)\n",
    "            for k in range(n_strikes_per_sample):\n",
    "                X_result[counter, 0] = initial_variance\n",
    "                X_result[counter, 1] = speed_of_meanreversion\n",
    "                X_result[counter, 2] = long_run_variance\n",
    "                X_result[counter, 3] = vol_of_variance\n",
    "                X_result[counter, 4] = correlation\n",
    "                X_result[counter, 5] = strikes[k]\n",
    "                X_result[counter, 6] = expiry_yf\n",
    "                Y_result[counter, 0] = prices[k]; #analytics.calcImpliedVol(call_prices[j], strikes_calls[j], expiry_yf, 1.0, 1.0, 'C')\n",
    "                counter = counter + 1\n",
    "        if i % 5000 == 0:\n",
    "            np.save('C:\\\\Users\\\\Anwender\\\\development\\\\RIVACON\\\\iqual\\\\experiments\\\\sc\\\\sc_params_' + str(counter) + '.npy', X_result)\n",
    "            np.save('C:\\\\Users\\\\Anwender\\\\development\\\\RIVACON\\\\iqual\\\\experiments\\\\sc\\\\prices_' + str(counter) + '.npy', Y_result)\n",
    "\n",
    "    #print(Y_result)\n",
    "    np.save('C:\\\\Users\\\\Anwender\\\\development\\\\RIVACON\\\\iqual\\\\experiments\\\\sc\\\\sc_params.npy', X_result)\n",
    "    np.save('C:\\\\Users\\\\Anwender\\\\development\\\\RIVACON\\\\iqual\\\\experiments\\\\sc\\\\prices.npy', Y_result)\n"
   ]
  },
  {
   "cell_type": "markdown",
   "metadata": {},
   "source": [
    "### Add model and train NN"
   ]
  },
  {
   "cell_type": "code",
   "execution_count": null,
   "metadata": {},
   "outputs": [],
   "source": [
    "if True:\n",
    "    from tensorflow.keras import layers\n",
    "    from tensorflow.keras.models import Sequential\n",
    "    from tensorflow.keras.layers import Dense, Activation\n",
    "\n",
    "    model = Sequential()\n",
    "    model.add(Dense(2,input_dim=7))\n",
    "    model.add(Activation('relu'))\n",
    "    model.add(Dense(5))\n",
    "    model.add(Activation('relu'))\n",
    "    model.add(Dense(1))\n",
    "    model.add(Activation('relu'))\n",
    "    \n",
    "    import externals.tensorflow_keras_interface as tf_interface\n",
    "    tf_interface.add_model(ml_repo, model, 'simple_dense', loss='MSE', epochs=1000, batch_size=1000)\n",
    "    ml_repo.run_training(run_descendants = True)"
   ]
  },
  {
   "cell_type": "code",
   "execution_count": null,
   "metadata": {},
   "outputs": [],
   "source": [
    "import pailab.plot as plot"
   ]
  },
  {
   "cell_type": "code",
   "execution_count": null,
   "metadata": {},
   "outputs": [],
   "source": [
    "plot.histogram_model_error(ml_repo, ml_repo.models.simple_dense(), ml_repo.training_data.training_small())"
   ]
  },
  {
   "cell_type": "code",
   "execution_count": null,
   "metadata": {},
   "outputs": [],
   "source": [
    "#ml_repo.run_evaluation()\n",
    "for k in MLObjectType:\n",
    "    names = ml_repo.get_names(k.value)\n",
    "    for n in names: \n",
    "        print(n + '\\t  ' + k.value)"
   ]
  },
  {
   "cell_type": "code",
   "execution_count": null,
   "metadata": {},
   "outputs": [],
   "source": [
    "ml_repo.models.simple_dense.jobs.training.load()\n",
    "job_info = ml_repo._job_runner.get_info(ml_repo.models.simple_dense.jobs.training(), ml_repo.models.simple_dense.jobs.training.obj.repo_info.version)\n",
    "print(job_info.error_message)\n"
   ]
  },
  {
   "cell_type": "code",
   "execution_count": null,
   "metadata": {
    "collapsed": true
   },
   "outputs": [],
   "source": []
  }
 ],
 "metadata": {
  "kernelspec": {
   "display_name": "Python 3",
   "language": "python",
   "name": "python3"
  },
  "language_info": {
   "codemirror_mode": {
    "name": "ipython",
    "version": 3
   },
   "file_extension": ".py",
   "mimetype": "text/x-python",
   "name": "python",
   "nbconvert_exporter": "python",
   "pygments_lexer": "ipython3",
   "version": "3.6.1"
  },
  "toc": {
   "colors": {
    "hover_highlight": "#DAA520",
    "navigate_num": "#000000",
    "navigate_text": "#333333",
    "running_highlight": "#FF0000",
    "selected_highlight": "#FFD700",
    "sidebar_border": "#EEEEEE",
    "wrapper_background": "#FFFFFF"
   },
   "moveMenuLeft": true,
   "nav_menu": {
    "height": "12px",
    "width": "252px"
   },
   "navigate_menu": true,
   "number_sections": true,
   "sideBar": true,
   "threshold": 4,
   "toc_cell": false,
   "toc_position": {
    "height": "843px",
    "left": "0px",
    "right": "1600px",
    "top": "106px",
    "width": "320px"
   },
   "toc_section_display": "block",
   "toc_window_display": true,
   "widenNotebook": false
  },
  "varInspector": {
   "cols": {
    "lenName": 16,
    "lenType": 16,
    "lenVar": 40
   },
   "kernels_config": {
    "python": {
     "delete_cmd_postfix": "",
     "delete_cmd_prefix": "del ",
     "library": "var_list.py",
     "varRefreshCmd": "print(var_dic_list())"
    },
    "r": {
     "delete_cmd_postfix": ") ",
     "delete_cmd_prefix": "rm(",
     "library": "var_list.r",
     "varRefreshCmd": "cat(var_dic_list()) "
    }
   },
   "types_to_exclude": [
    "module",
    "function",
    "builtin_function_or_method",
    "instance",
    "_Feature"
   ],
   "window_display": false
  }
 },
 "nbformat": 4,
 "nbformat_minor": 2
}
