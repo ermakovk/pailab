{
 "cells": [
  {
   "cell_type": "code",
   "execution_count": 1,
   "metadata": {
    "collapsed": true
   },
   "outputs": [],
   "source": [
    "import numpy as np\n",
    "import datetime as dt\n",
    "import tensorflow as tf\n",
    "from pailab import MLRepo, MeasureConfiguration, MLObjectType, FIRST_VERSION, LAST_VERSION\n",
    "import logging\n",
    "from pailab.tools.tools import MLTree\n",
    "\n",
    "logging.basicConfig(level=logging.ERROR)"
   ]
  },
  {
   "cell_type": "code",
   "execution_count": 2,
   "metadata": {
    "code_folding": [
     0
    ],
    "collapsed": true
   },
   "outputs": [],
   "source": [
    "ml_repo = MLRepo( workspace = 'c:/ml_repos/sc')"
   ]
  },
  {
   "cell_type": "code",
   "execution_count": 3,
   "metadata": {
    "collapsed": true
   },
   "outputs": [],
   "source": [
    "MLTree.add_tree(ml_repo)"
   ]
  },
  {
   "cell_type": "code",
   "execution_count": 5,
   "metadata": {
    "collapsed": true
   },
   "outputs": [],
   "source": [
    "import pailab.repo as pailab_repo"
   ]
  },
  {
   "cell_type": "code",
   "execution_count": 6,
   "metadata": {},
   "outputs": [
    {
     "name": "stdout",
     "output_type": "stream",
     "text": [
      "No input changed since last run, do not start job..\n",
      "No input changed since last run, do not start job..\n",
      "No input changed since last run, do not start job..\n",
      "No input changed since last run, do not start job..\n",
      "No input changed since last run, do not start job..\n",
      "No input changed since last run, do not start job..\n",
      "No input changed since last run, do not start job..\n",
      "No input changed since last run, do not start job..\n",
      "No input changed since last run, do not start job..\n",
      "No input changed since last run, do not start job..\n",
      "No input changed since last run, do not start job..\n",
      "No input changed since last run, do not start job..\n",
      "No input changed since last run, do not start job..\n",
      "No input changed since last run, do not start job..\n",
      "No input changed since last run, do not start job..\n",
      "No input changed since last run, do not start job..\n",
      "No input changed since last run, do not start job..\n",
      "No input changed since last run, do not start job..\n",
      "No input changed since last run, do not start job..\n",
      "No input changed since last run, do not start job..\n"
     ]
    }
   ],
   "source": [
    "hist = ml_repo.get_history('simple_dense/model')\n",
    "for k in hist:\n",
    "    mse_job = pailab_repo.MeasureJob('should be removed', 'mse', '_all', \n",
    "                                     'sc_call_prices', 'simple_dense/model', \n",
    "                                     model_version=k['repo_info']['version'],\n",
    "                                     repo_info = {'name':'simple_dense/model/jobs/measure/sc_call_prices/mse',\n",
    "                                                  'category': 'JOB'} )\n",
    "    print(ml_repo.run(mse_job))\n",
    "    \n",
    "    mse_job = pailab_repo.MeasureJob('should be removed', 'mse', '_all', \n",
    "                                     'sc_call_prices_test', 'simple_dense/model', \n",
    "                                     model_version=k['repo_info']['version'],\n",
    "                                     repo_info = {'name':'simple_dense/model/jobs/measure/sc_call_prices_test/mse',\n",
    "                                                'category': 'JOB'})\n",
    "    print(ml_repo.run(mse_job))"
   ]
  },
  {
   "cell_type": "code",
   "execution_count": null,
   "metadata": {
    "collapsed": true
   },
   "outputs": [],
   "source": [
    "ml_repo.add_measure(MeasureConfiguration.MSE)"
   ]
  },
  {
   "cell_type": "code",
   "execution_count": null,
   "metadata": {
    "collapsed": true
   },
   "outputs": [],
   "source": [
    "from pailab import MLRepo, MeasureConfiguration"
   ]
  },
  {
   "cell_type": "code",
   "execution_count": null,
   "metadata": {
    "collapsed": true
   },
   "outputs": [],
   "source": []
  }
 ],
 "metadata": {
  "kernelspec": {
   "display_name": "Python 3",
   "language": "python",
   "name": "python3"
  },
  "language_info": {
   "codemirror_mode": {
    "name": "ipython",
    "version": 3
   },
   "file_extension": ".py",
   "mimetype": "text/x-python",
   "name": "python",
   "nbconvert_exporter": "python",
   "pygments_lexer": "ipython3",
   "version": "3.6.1"
  },
  "toc": {
   "base_numbering": 1,
   "nav_menu": {
    "height": "12px",
    "width": "252px"
   },
   "number_sections": true,
   "sideBar": true,
   "skip_h1_title": false,
   "title_cell": "Table of Contents",
   "title_sidebar": "Contents",
   "toc_cell": false,
   "toc_position": {
    "height": "843px",
    "left": "0px",
    "right": "1600px",
    "top": "106px",
    "width": "320px"
   },
   "toc_section_display": "block",
   "toc_window_display": true
  },
  "varInspector": {
   "cols": {
    "lenName": 16,
    "lenType": 16,
    "lenVar": 40
   },
   "kernels_config": {
    "python": {
     "delete_cmd_postfix": "",
     "delete_cmd_prefix": "del ",
     "library": "var_list.py",
     "varRefreshCmd": "print(var_dic_list())"
    },
    "r": {
     "delete_cmd_postfix": ") ",
     "delete_cmd_prefix": "rm(",
     "library": "var_list.r",
     "varRefreshCmd": "cat(var_dic_list()) "
    }
   },
   "types_to_exclude": [
    "module",
    "function",
    "builtin_function_or_method",
    "instance",
    "_Feature"
   ],
   "window_display": false
  }
 },
 "nbformat": 4,
 "nbformat_minor": 2
}
