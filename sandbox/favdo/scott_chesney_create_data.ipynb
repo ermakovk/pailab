{
 "cells": [
  {
   "cell_type": "markdown",
   "metadata": {},
   "source": [
    "### Generate data"
   ]
  },
  {
   "cell_type": "code",
   "execution_count": null,
   "metadata": {
    "code_folding": []
   },
   "outputs": [
    {
     "name": "stdout",
     "output_type": "stream",
     "text": [
      "sample 0\n"
     ]
    },
    {
     "name": "stderr",
     "output_type": "stream",
     "text": [
      "C:\\Users\\Anwender\\Anaconda3\\lib\\site-packages\\ipykernel_launcher.py:41: DeprecationWarning: This function is deprecated. Please call randint(10, 1095 + 1) instead\n"
     ]
    },
    {
     "name": "stdout",
     "output_type": "stream",
     "text": [
      "sample 5000\n",
      "sample 10000\n",
      "sample 15000\n",
      "sample 20000\n"
     ]
    }
   ],
   "source": [
    "import pyvacon.analytics as analytics\n",
    "import pyvacon.tools.converter as converter\n",
    "import pyvacon.models.converter as model_converter\n",
    "import pyvacon.models.tools as model_tools\n",
    "import numpy as np\n",
    "import random\n",
    "import math\n",
    "\n",
    "main_dir = 'C:\\\\ml_repos\\\\orig_data_sc'\n",
    "\n",
    "simtimes_p = range(1,3*365)\n",
    "refdate = analytics.ptime(2017, 1, 1, 0, 0, 0)\n",
    "num_threads = 2\n",
    "\n",
    "nsims = 10000 # number of sims to compute the call prices\n",
    "n_samples = 200000 # number of samples for call prices\n",
    "\n",
    "ntimesteps_per_year = 365\n",
    "\n",
    "spot = 1.0\n",
    "n_strikes_per_sample = 10 #number of strikes call prices are computed at each sample\n",
    "expiry_intervalls =  [(5,180) , (181, 365),(366, 366+180), (366+180+1,2*365), (2*365+1,3*365)]\n",
    "n_expiries_per_sample = len(expiry_intervalls)\n",
    "\n",
    "n_overall_samples = n_samples *n_strikes_per_sample*n_expiries_per_sample\n",
    "X_result = np.empty((n_overall_samples, 5 + 2))\n",
    "Y_result = np.empty((n_overall_samples, 1))\n",
    "variance_min = math.log(0.05)\n",
    "variance_max = math.log(1.2)\n",
    "counter = 0\n",
    "for i in range(n_samples):\n",
    "    if i % 5000 == 0:\n",
    "        print('sample ' + str(i))\n",
    "    initial_variance = random.uniform(variance_min, variance_max)\n",
    "    speed_of_meanreversion = random.uniform(0.1, 5.0)\n",
    "    long_run_variance = random.uniform(variance_min, variance_max)\n",
    "    vol_of_variance = random.uniform(0.01, 1.2)\n",
    "    correlation = random.uniform(-0.9,0.9)\n",
    "    model = analytics.ScottChesneyModel('t', refdate, spot, initial_variance, speed_of_meanreversion, long_run_variance, vol_of_variance, correlation)\n",
    "\n",
    "    tmp = np.random.random_integers(10,3*365, n_expiries_per_sample)\n",
    "    simtimes_p = []\n",
    "    for d in expiry_intervalls:\n",
    "        simtimes_p.append( int(np.random.randint(d[0],d[1])) )\n",
    "    simtimes = converter.createPTimeList(refdate, simtimes_p)\n",
    "\n",
    "    tmp = analytics.ModelLab(model, refdate)\n",
    "    seed = np.random.randint(1,1024)\n",
    "    #print('sample ' + str(i) + '  seed ' + str(seed))\n",
    "    tmp.simulate(simtimes, nsims,ntimesteps_per_year, num_threads, seed)\n",
    "    for t in range(len(simtimes_p)):\n",
    "        expiry_index = simtimes_p[t]\n",
    "        expiry_yf = (expiry_index+1)/365.0\n",
    "        strikes = np.random.uniform(0.5,1.5, n_strikes_per_sample)\n",
    "        prices = model_tools.compute_statistics(tmp, strikes, t, 0, lambda x, y: max(x-y,0.0))\n",
    "        #put_prices = model_tools.compute_statistics(tmp, strikes_puts, expiry_index, 0, lambda x, y: max(y-x,0.0))\n",
    "        #print(put_prices)\n",
    "        for k in range(n_strikes_per_sample):\n",
    "            X_result[counter, 0] = initial_variance\n",
    "            X_result[counter, 1] = speed_of_meanreversion\n",
    "            X_result[counter, 2] = long_run_variance\n",
    "            X_result[counter, 3] = vol_of_variance\n",
    "            X_result[counter, 4] = correlation\n",
    "            X_result[counter, 5] = strikes[k]\n",
    "            X_result[counter, 6] = expiry_yf\n",
    "            Y_result[counter, 0] = prices[k]; #analytics.calcImpliedVol(call_prices[j], strikes_calls[j], expiry_yf, 1.0, 1.0, 'C')\n",
    "            counter = counter + 1\n",
    "    if (i+1) % 500 == 0:\n",
    "        np.save(main_dir+'\\\\sc_params_' + str(counter) + '.npy', X_result[0:counter,:])\n",
    "        np.save(main_dir+'\\\\prices_' + str(counter) + '.npy', Y_result[0:counter,:])\n",
    "\n",
    "#print(Y_result)\n",
    "np.save(main_dir + '\\\\sc_params.npy', X_result)\n",
    "np.save(main_dir + '\\\\prices.npy', Y_result)\n"
   ]
  },
  {
   "cell_type": "code",
   "execution_count": null,
   "metadata": {
    "collapsed": true
   },
   "outputs": [],
   "source": []
  }
 ],
 "metadata": {
  "kernelspec": {
   "display_name": "Python 3",
   "language": "python",
   "name": "python3"
  },
  "language_info": {
   "codemirror_mode": {
    "name": "ipython",
    "version": 3
   },
   "file_extension": ".py",
   "mimetype": "text/x-python",
   "name": "python",
   "nbconvert_exporter": "python",
   "pygments_lexer": "ipython3",
   "version": "3.6.1"
  },
  "toc": {
   "base_numbering": 1,
   "colors": {
    "hover_highlight": "#DAA520",
    "navigate_num": "#000000",
    "navigate_text": "#333333",
    "running_highlight": "#FF0000",
    "selected_highlight": "#FFD700",
    "sidebar_border": "#EEEEEE",
    "wrapper_background": "#FFFFFF"
   },
   "moveMenuLeft": true,
   "nav_menu": {
    "height": "12px",
    "width": "252px"
   },
   "navigate_menu": true,
   "number_sections": true,
   "sideBar": true,
   "skip_h1_title": false,
   "threshold": 4,
   "title_cell": "Table of Contents",
   "title_sidebar": "Contents",
   "toc_cell": false,
   "toc_position": {
    "height": "843px",
    "left": "0px",
    "right": "1600px",
    "top": "106px",
    "width": "320px"
   },
   "toc_section_display": "block",
   "toc_window_display": true,
   "widenNotebook": false
  },
  "varInspector": {
   "cols": {
    "lenName": 16,
    "lenType": 16,
    "lenVar": 40
   },
   "kernels_config": {
    "python": {
     "delete_cmd_postfix": "",
     "delete_cmd_prefix": "del ",
     "library": "var_list.py",
     "varRefreshCmd": "print(var_dic_list())"
    },
    "r": {
     "delete_cmd_postfix": ") ",
     "delete_cmd_prefix": "rm(",
     "library": "var_list.r",
     "varRefreshCmd": "cat(var_dic_list()) "
    }
   },
   "types_to_exclude": [
    "module",
    "function",
    "builtin_function_or_method",
    "instance",
    "_Feature"
   ],
   "window_display": false
  }
 },
 "nbformat": 4,
 "nbformat_minor": 2
}
