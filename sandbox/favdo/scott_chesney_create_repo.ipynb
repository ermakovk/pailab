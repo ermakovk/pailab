{
 "cells": [
  {
   "cell_type": "code",
   "execution_count": null,
   "metadata": {
    "collapsed": true
   },
   "outputs": [],
   "source": [
    "import numpy as np\n",
    "import datetime as dt\n",
    "import tensorflow as tf\n",
    "from pailab import MLRepo, MeasureConfiguration, MLObjectType, FIRST_VERSION, LAST_VERSION\n",
    "import logging\n",
    "from pailab.tools import MLTree\n",
    "\n",
    "logging.basicConfig(level=logging.ERROR)\n",
    "#logger = logging.getLogger('pailab.disk_handler')\n",
    "#logger.setLevel(logging.DEBUG)\n",
    "\n",
    "#tf.VERSION"
   ]
  },
  {
   "cell_type": "code",
   "execution_count": null,
   "metadata": {
    "code_folding": []
   },
   "outputs": [],
   "source": [
    "config = {'user': 'test_user',\n",
    "          'workspace': 'c:/ml_repos/sc',\n",
    "          'repo_store': \n",
    "          {\n",
    "              'type': 'git_handler',  \n",
    "              'config': {\n",
    "                  'folder': 'c:/ml_repos/sc/objects', \n",
    "                  'file_format': 'json'\n",
    "              }\n",
    "          }\n",
    "         }\n",
    "ml_repo = MLRepo(config = config, save_config = True)\n",
    "\n",
    "from pailab.tools import MLTree\n",
    "MLTree.add_tree(ml_repo)"
   ]
  },
  {
   "cell_type": "code",
   "execution_count": null,
   "metadata": {},
   "outputs": [],
   "source": [
    "# add raw data\n",
    "data_dir = 'C:\\\\ml_repos\\\\orig_data_sc'\n",
    "x_names = ['initial_variance', 'speed_of_meanreversion', 'long_run_variance', 'vol_of_variance', 'correlation', 'strike', 'expiry']\n",
    "y_names = ['call price']\n",
    "ml_repo.tree.raw_data.add_from_numpy_file('sc_data', data_dir + '\\\\sc_params_825000.npy', x_names,\n",
    "              data_dir+ '\\\\prices_825000.npy', y_names )"
   ]
  },
  {
   "cell_type": "code",
   "execution_count": null,
   "metadata": {
    "collapsed": true
   },
   "outputs": [],
   "source": [
    "# add training and test data\n",
    "ml_repo.tree.training_data.add('sc_call_prices', 'sc_data', end_index = 700000)"
   ]
  },
  {
   "cell_type": "code",
   "execution_count": null,
   "metadata": {
    "collapsed": true
   },
   "outputs": [],
   "source": [
    "#add test data\n",
    "ml_repo.tree.training_data.add('sc_call_prices', 'sc_data', start_index = 700001, end_index = None)"
   ]
  },
  {
   "cell_type": "code",
   "execution_count": null,
   "metadata": {
    "collapsed": true
   },
   "outputs": [],
   "source": []
  }
 ],
 "metadata": {
  "kernelspec": {
   "display_name": "Python 3",
   "language": "python",
   "name": "python3"
  },
  "toc": {
   "base_numbering": 1,
   "nav_menu": {
    "height": "12px",
    "width": "252px"
   },
   "number_sections": true,
   "sideBar": true,
   "skip_h1_title": false,
   "title_cell": "Table of Contents",
   "title_sidebar": "Contents",
   "toc_cell": false,
   "toc_position": {
    "height": "843px",
    "left": "0px",
    "right": "1600px",
    "top": "106px",
    "width": "320px"
   },
   "toc_section_display": "block",
   "toc_window_display": true
  },
  "varInspector": {
   "cols": {
    "lenName": 16,
    "lenType": 16,
    "lenVar": 40
   },
   "kernels_config": {
    "python": {
     "delete_cmd_postfix": "",
     "delete_cmd_prefix": "del ",
     "library": "var_list.py",
     "varRefreshCmd": "print(var_dic_list())"
    },
    "r": {
     "delete_cmd_postfix": ") ",
     "delete_cmd_prefix": "rm(",
     "library": "var_list.r",
     "varRefreshCmd": "cat(var_dic_list()) "
    }
   },
   "types_to_exclude": [
    "module",
    "function",
    "builtin_function_or_method",
    "instance",
    "_Feature"
   ],
   "window_display": false
  }
 },
 "nbformat": 4,
 "nbformat_minor": 2
}
