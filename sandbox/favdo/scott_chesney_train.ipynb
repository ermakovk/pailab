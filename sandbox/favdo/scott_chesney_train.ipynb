{
 "cells": [
  {
   "cell_type": "code",
   "execution_count": 1,
   "metadata": {},
   "outputs": [],
   "source": [
    "import numpy as np\n",
    "import datetime as dt\n",
    "import tensorflow as tf\n",
    "from pailab import MLRepo, MeasureConfiguration, MLObjectType, FIRST_VERSION, LAST_VERSION\n",
    "import logging\n",
    "\n",
    "logging.basicConfig(level=logging.ERROR)"
   ]
  },
  {
   "cell_type": "code",
   "execution_count": 2,
   "metadata": {
    "collapsed": true
   },
   "outputs": [],
   "source": [
    "ml_repo = MLRepo(workspace = 'c:/ml_repos/sc')"
   ]
  },
  {
   "cell_type": "markdown",
   "metadata": {},
   "source": [
    "### Add model and train NN"
   ]
  },
  {
   "cell_type": "code",
   "execution_count": 3,
   "metadata": {},
   "outputs": [
    {
     "name": "stderr",
     "output_type": "stream",
     "text": [
      "ERROR:pailab.disk_handler:No object with name simple_dense/jobs/training exists.\n",
      "ERROR:pailab.disk_handler:no object simple_dense/model/jobs/eval_job/sc_call_prices in storage.\n",
      "ERROR:pailab.disk_handler:no object simple_dense/model/jobs/eval_job/sc_call_prices in storage.\n"
     ]
    },
    {
     "data": {
      "text/plain": [
       "('simple_dense/jobs/training', 'a378712e-2bb8-11e9-a531-fc084a6691eb')"
      ]
     },
     "execution_count": 3,
     "metadata": {},
     "output_type": "execute_result"
    }
   ],
   "source": [
    "from tensorflow.keras import layers\n",
    "from tensorflow.keras.models import Sequential\n",
    "from tensorflow.keras.layers import Dense, Activation\n",
    "\n",
    "model = Sequential()\n",
    "model.add(Dense(15,input_dim=7))\n",
    "model.add(Activation('relu'))\n",
    "model.add(Dense(5))\n",
    "model.add(Activation('relu'))\n",
    "model.add(Dense(1))\n",
    "model.add(Activation('relu'))\n",
    "\n",
    "import pailab_externals.tensorflow_keras_interface as tf_interface\n",
    "tf_interface.add_model(ml_repo, model, 'simple_dense', loss='MSE', epochs=1000, batch_size=2000)"
   ]
  },
  {
   "cell_type": "code",
   "execution_count": 7,
   "metadata": {
    "collapsed": true
   },
   "outputs": [],
   "source": [
    "from pailab.tools import MLTree\n",
    "MLTree.add_tree(ml_repo)"
   ]
  },
  {
   "cell_type": "code",
   "execution_count": 8,
   "metadata": {},
   "outputs": [
    {
     "name": "stderr",
     "output_type": "stream",
     "text": [
      "ERROR:pailab.disk_handler:No object with name simple_dense/eval exists.\n",
      "ERROR:pailab.disk_handler:No object with name tests exists.\n",
      "ERROR:pailab.disk_handler:No object with name measures exists.\n",
      "ERROR:pailab.disk_handler:No object with name jobs exists.\n"
     ]
    },
    {
     "data": {
      "text/plain": [
       "<pailab_externals.tensorflow_keras_interface.TensorflowKerasTrainingParameter at 0x26ebca33240>"
      ]
     },
     "execution_count": 8,
     "metadata": {},
     "output_type": "execute_result"
    }
   ],
   "source": [
    "ml_repo.tree.models.simple_dense.load()\n",
    "\n",
    "ml_repo.tree.models.simple_dense.training_param.obj"
   ]
  },
  {
   "cell_type": "code",
   "execution_count": null,
   "metadata": {
    "collapsed": true
   },
   "outputs": [],
   "source": [
    "ml_repo.run_training(run_descendants = True)"
   ]
  },
  {
   "cell_type": "code",
   "execution_count": 5,
   "metadata": {},
   "outputs": [
    {
     "data": {
      "text/html": [
       "<script>requirejs.config({paths: { 'plotly': ['https://cdn.plot.ly/plotly-latest.min']},});if(!window.Plotly) {{require(['plotly'],function(plotly) {window.Plotly=plotly;});}}</script>"
      ],
      "text/vnd.plotly.v1+html": [
       "<script>requirejs.config({paths: { 'plotly': ['https://cdn.plot.ly/plotly-latest.min']},});if(!window.Plotly) {{require(['plotly'],function(plotly) {window.Plotly=plotly;});}}</script>"
      ]
     },
     "metadata": {},
     "output_type": "display_data"
    }
   ],
   "source": [
    "import pailab.plot as plot"
   ]
  },
  {
   "cell_type": "code",
   "execution_count": 6,
   "metadata": {
    "collapsed": true
   },
   "outputs": [],
   "source": [
    "ml_repo.set_label('candidate')"
   ]
  },
  {
   "cell_type": "code",
   "execution_count": 8,
   "metadata": {},
   "outputs": [
    {
     "name": "stderr",
     "output_type": "stream",
     "text": [
      "IOPub data rate exceeded.\n",
      "The notebook server will temporarily stop sending output\n",
      "to the client in order to avoid crashing it.\n",
      "To change this limit, set the config variable\n",
      "`--NotebookApp.iopub_data_rate_limit`.\n"
     ]
    }
   ],
   "source": [
    "#?plot.histogram_model_error\n",
    "plot.histogram_model_error(ml_repo, {ml_repo.models.simple_dense.model(): (FIRST_VERSION, LAST_VERSION)},ml_repo.training_data.training())"
   ]
  },
  {
   "cell_type": "code",
   "execution_count": 9,
   "metadata": {},
   "outputs": [
    {
     "ename": "AttributeError",
     "evalue": "'TestDataCollection' object has no attribute 'test_small'",
     "output_type": "error",
     "traceback": [
      "\u001b[1;31m---------------------------------------------------------------------------\u001b[0m",
      "\u001b[1;31mAttributeError\u001b[0m                            Traceback (most recent call last)",
      "\u001b[1;32m<ipython-input-9-59f8e218a862>\u001b[0m in \u001b[0;36m<module>\u001b[1;34m()\u001b[0m\n\u001b[1;32m----> 1\u001b[1;33m \u001b[0mplot\u001b[0m\u001b[1;33m.\u001b[0m\u001b[0mscatter_model_error\u001b[0m\u001b[1;33m(\u001b[0m\u001b[0mml_repo\u001b[0m\u001b[1;33m,\u001b[0m\u001b[0mml_repo\u001b[0m\u001b[1;33m.\u001b[0m\u001b[0mmodels\u001b[0m\u001b[1;33m.\u001b[0m\u001b[0msimple_dense\u001b[0m\u001b[1;33m.\u001b[0m\u001b[0mmodel\u001b[0m\u001b[1;33m(\u001b[0m\u001b[1;33m)\u001b[0m\u001b[1;33m,\u001b[0m\u001b[0mml_repo\u001b[0m\u001b[1;33m.\u001b[0m\u001b[0mtest_data\u001b[0m\u001b[1;33m.\u001b[0m\u001b[0mtest_small\u001b[0m\u001b[1;33m(\u001b[0m\u001b[1;33m)\u001b[0m\u001b[1;33m,\u001b[0m \u001b[1;34m'strike'\u001b[0m\u001b[1;33m)\u001b[0m\u001b[1;33m\u001b[0m\u001b[0m\n\u001b[0m",
      "\u001b[1;31mAttributeError\u001b[0m: 'TestDataCollection' object has no attribute 'test_small'"
     ]
    }
   ],
   "source": [
    "plot.scatter_model_error(ml_repo,ml_repo.models.simple_dense.model(),ml_repo.test_data.test_small(), 'strike')"
   ]
  },
  {
   "cell_type": "code",
   "execution_count": 10,
   "metadata": {},
   "outputs": [
    {
     "name": "stdout",
     "output_type": "stream",
     "text": [
      "simple_dense/eval/test\t  EVAL_DATA\n",
      "simple_dense/eval/training\t  EVAL_DATA\n",
      "sc\t  RAW_DATA\n",
      "training\t  TRAINING_DATA\n",
      "test\t  TEST_DATA\n",
      "simple_dense/model_param\t  MODEL_PARAM\n",
      "simple_dense/training_param\t  TRAINING_PARAM\n",
      "train_keras_tensorflow\t  TRAINING_FUNCTION\n",
      "eval_keras_tensorflow\t  MODEL_EVAL_FUNCTION\n",
      "prod\t  LABEL\n",
      "simple_dense\t  MODEL\n",
      "simple_dense/model\t  CALIBRATED_MODEL\n",
      "CommitInfo\t  COMMIT_INFO\n",
      "repo_mapping\t  MAPPING\n",
      "simple_dense/measure/test/r2\t  MEASURE\n",
      "simple_dense/measure/test/max\t  MEASURE\n",
      "simple_dense/measure/training/r2\t  MEASURE\n",
      "simple_dense/measure/training/max\t  MEASURE\n",
      "measure_config\t  MEASURE_CONFIGURATION\n",
      "simple_dense/jobs/training\t  JOB\n",
      "simple_dense/model/jobs/eval_job/test\t  JOB\n",
      "simple_dense/model/jobs/measure/test/r2\t  JOB\n",
      "simple_dense/model/jobs/measure/test/max\t  JOB\n",
      "simple_dense/model/jobs/eval_job/training\t  JOB\n",
      "simple_dense/model/jobs/measure/training/r2\t  JOB\n",
      "simple_dense/model/jobs/measure/training/max\t  JOB\n",
      "simple_dense/training_stat\t  TRAINING_STATISTIC\n"
     ]
    }
   ],
   "source": [
    "#ml_repo.run_evaluation()\n",
    "for k in MLObjectType:\n",
    "    names = ml_repo.get_names(k.value)\n",
    "    for n in names: \n",
    "        print(n + '\\t  ' + k.value)"
   ]
  },
  {
   "cell_type": "code",
   "execution_count": 9,
   "metadata": {
    "collapsed": true
   },
   "outputs": [],
   "source": [
    "depp = ml_repo.get(ml_repo.models.simple_dense(), version = (FIRST_VERSION, LAST_VERSION))\n",
    "#ml_repo.models.simple_dense.jobs.eval_job.training_small.load()\n",
    "#job_info = ml_repo._job_runner.get_info(ml_repo.models.simple_dense.jobs.eval_job.training_small(), ml_repo.models.simple_dense.jobs.eval_job.training_small.obj.repo_info.version)\n",
    "#print(job_info.trace_back)\n"
   ]
  },
  {
   "cell_type": "code",
   "execution_count": 10,
   "metadata": {},
   "outputs": [
    {
     "name": "stdout",
     "output_type": "stream",
     "text": [
      "{'\\\\simple_dense\\\\eval/training_small.hdf5', '\\\\simple_dense/model.hdf5', '/sc.hdf5', '\\\\simple_dense/training_stat.hdf5', '\\\\simple_dense\\\\eval/test_small.hdf5'}\n",
      "blob: simple_dense/training_stat.hdf5\n"
     ]
    }
   ],
   "source": [
    "import pailab.tools_gc as tools_gc\n",
    "tools_gc.get_numpy_data(ml_repo.get_numpy_data_store(), 'scottchessny')\n"
   ]
  },
  {
   "cell_type": "code",
   "execution_count": 26,
   "metadata": {
    "collapsed": true
   },
   "outputs": [],
   "source": [
    "from pailab.tools import MLTree"
   ]
  },
  {
   "cell_type": "code",
   "execution_count": 27,
   "metadata": {},
   "outputs": [
    {
     "data": {
      "text/plain": [
       "{'finished': '2018-12-18 08:32:15.438039',\n",
       " 'model': 'simple_dense',\n",
       " 'model_param_version': 'last',\n",
       " 'model_version': 'last',\n",
       " 'predecessors': [],\n",
       " 'started': '2018-12-18 08:29:46.975010',\n",
       " 'state': 'finished',\n",
       " 'training_data_version': 'last',\n",
       " 'training_function_version': 'last',\n",
       " 'training_param_version': 'last',\n",
       " 'user': 'test_user'}"
      ]
     },
     "execution_count": 27,
     "metadata": {},
     "output_type": "execute_result"
    }
   ],
   "source": [
    "tree = MLTree(ml_repo)\n",
    "tree.models.simple_dense.jobs.training.load()\n",
    "tree.models.simple_dense.jobs.training.obj.to_dict()"
   ]
  },
  {
   "cell_type": "code",
   "execution_count": 42,
   "metadata": {},
   "outputs": [
    {
     "data": {
      "text/plain": [
       "0.00022467896633315831"
      ]
     },
     "execution_count": 42,
     "metadata": {},
     "output_type": "execute_result"
    }
   ],
   "source": [
    "tree.models.simple_dense.training_statistic.obj.loss[-1]"
   ]
  },
  {
   "cell_type": "code",
   "execution_count": 50,
   "metadata": {},
   "outputs": [
    {
     "data": {
      "text/plain": [
       "{'simple_dense': '184e838c-0298-11e9-bfc7-fc084a6691eb',\n",
       " 'simple_dense/model_param': '1831e902-0298-11e9-a566-fc084a6691eb',\n",
       " 'simple_dense/training_param': '1831e902-0298-11e9-a566-fc084a6691eb',\n",
       " 'train_keras_tensorflow': '17fa9be4-0298-11e9-8d68-fc084a6691eb',\n",
       " 'training_small': 'bc41a42c-0293-11e9-9b31-fc084a6691eb'}"
      ]
     },
     "execution_count": 50,
     "metadata": {},
     "output_type": "execute_result"
    }
   ],
   "source": [
    "tree.models.simple_dense.training_statistic.obj.repo_info.modification_info"
   ]
  },
  {
   "cell_type": "code",
   "execution_count": 48,
   "metadata": {
    "collapsed": true
   },
   "outputs": [],
   "source": [
    "tree.models.simple_dense.training_param.obj.validation_split=0.1"
   ]
  },
  {
   "cell_type": "code",
   "execution_count": null,
   "metadata": {
    "collapsed": true
   },
   "outputs": [],
   "source": [
    "#repo_store = ml_repo.get_ml_repo_store()\n",
    "#repo_store.commit(\"\")\n",
    "#repo_store.push()"
   ]
  }
 ],
 "metadata": {
  "kernelspec": {
   "display_name": "Python 3",
   "language": "python",
   "name": "python3"
  },
  "language_info": {
   "codemirror_mode": {
    "name": "ipython",
    "version": 3
   },
   "file_extension": ".py",
   "mimetype": "text/x-python",
   "name": "python",
   "nbconvert_exporter": "python",
   "pygments_lexer": "ipython3",
   "version": "3.6.1"
  },
  "toc": {
   "base_numbering": 1,
   "nav_menu": {
    "height": "12px",
    "width": "252px"
   },
   "number_sections": true,
   "sideBar": true,
   "skip_h1_title": false,
   "title_cell": "Table of Contents",
   "title_sidebar": "Contents",
   "toc_cell": false,
   "toc_position": {
    "height": "843px",
    "left": "0px",
    "right": "1600px",
    "top": "106px",
    "width": "320px"
   },
   "toc_section_display": "block",
   "toc_window_display": true
  },
  "varInspector": {
   "cols": {
    "lenName": 16,
    "lenType": 16,
    "lenVar": 40
   },
   "kernels_config": {
    "python": {
     "delete_cmd_postfix": "",
     "delete_cmd_prefix": "del ",
     "library": "var_list.py",
     "varRefreshCmd": "print(var_dic_list())"
    },
    "r": {
     "delete_cmd_postfix": ") ",
     "delete_cmd_prefix": "rm(",
     "library": "var_list.r",
     "varRefreshCmd": "cat(var_dic_list()) "
    }
   },
   "types_to_exclude": [
    "module",
    "function",
    "builtin_function_or_method",
    "instance",
    "_Feature"
   ],
   "window_display": false
  }
 },
 "nbformat": 4,
 "nbformat_minor": 2
}
