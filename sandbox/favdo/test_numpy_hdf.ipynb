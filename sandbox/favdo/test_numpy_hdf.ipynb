{
 "cells": [
  {
   "cell_type": "code",
   "execution_count": 1,
   "metadata": {},
   "outputs": [],
   "source": [
    "import numpy as np\n",
    "import datetime as dt\n",
    "import tensorflow as tf\n",
    "from pailab import MLRepo, MeasureConfiguration, MLObjectType, FIRST_VERSION, LAST_VERSION\n",
    "from pailab.numpy_handler_hdf import NumpyHDFStorage\n",
    "import logging\n",
    "from pailab.tools.tools import MLTree\n",
    "\n",
    "logging.basicConfig(level=logging.ERROR)"
   ]
  },
  {
   "cell_type": "code",
   "execution_count": 2,
   "metadata": {
    "collapsed": true
   },
   "outputs": [],
   "source": [
    "handler = NumpyHDFStorage('C:/temp/',version_files = False)\n"
   ]
  },
  {
   "cell_type": "code",
   "execution_count": 3,
   "metadata": {},
   "outputs": [],
   "source": [
    "v1 = {'x':np.zeros([20]), 'y':np.ones([2,3])}\n",
    "handler.add('test', '1', v1)"
   ]
  },
  {
   "cell_type": "code",
   "execution_count": 4,
   "metadata": {},
   "outputs": [],
   "source": [
    "v2 = {'x': np.ones([5]), 'y':np.zeros([4,3])}\n",
    "handler.append('test', '1','2', v2)"
   ]
  },
  {
   "cell_type": "code",
   "execution_count": 5,
   "metadata": {},
   "outputs": [
    {
     "data": {
      "text/plain": [
       "{'x': array([ 0.,  0.,  0.,  0.,  0.,  0.,  0.,  0.,  0.,  0.,  0.,  0.,  0.,\n",
       "         0.,  0.,  0.,  0.,  0.,  0.,  0.]), 'y': array([[ 1.,  1.,  1.],\n",
       "        [ 1.,  1.,  1.]])}"
      ]
     },
     "execution_count": 5,
     "metadata": {},
     "output_type": "execute_result"
    }
   ],
   "source": [
    "handler.get('test', '1')"
   ]
  },
  {
   "cell_type": "code",
   "execution_count": 6,
   "metadata": {},
   "outputs": [],
   "source": [
    "v3 = {'x': np.zeros([1]), 'y':np.ones([1,3])}\n",
    "handler.append('test', '2','3', v3)"
   ]
  },
  {
   "cell_type": "code",
   "execution_count": 8,
   "metadata": {},
   "outputs": [
    {
     "data": {
      "text/plain": [
       "{'x': array([ 0.,  0.,  0.,  0.,  0.,  0.,  0.,  0.,  0.,  0.,  0.,  0.,  0.,\n",
       "         0.,  0.,  0.,  0.,  0.,  0.,  0.,  1.,  1.,  1.,  1.,  1.]),\n",
       " 'y': array([[ 1.,  1.,  1.],\n",
       "        [ 1.,  1.,  1.],\n",
       "        [ 0.,  0.,  0.],\n",
       "        [ 0.,  0.,  0.],\n",
       "        [ 0.,  0.,  0.],\n",
       "        [ 0.,  0.,  0.]])}"
      ]
     },
     "execution_count": 8,
     "metadata": {},
     "output_type": "execute_result"
    }
   ],
   "source": [
    "handler.get('test', '2')"
   ]
  },
  {
   "cell_type": "markdown",
   "metadata": {},
   "source": [
    "## Kann weg"
   ]
  },
  {
   "cell_type": "code",
   "execution_count": null,
   "metadata": {
    "code_folding": [
     0
    ],
    "collapsed": true
   },
   "outputs": [],
   "source": [
    "ml_repo = MLRepo( workspace = 'c:/ml_repos/sc')\n",
    "import pailab.analysis.plot as plot\n",
    "MLTree.add_tree(ml_repo)"
   ]
  },
  {
   "cell_type": "code",
   "execution_count": null,
   "metadata": {
    "code_folding": [
     0
    ],
    "collapsed": true
   },
   "outputs": [],
   "source": [
    "#\n",
    "from IPython.display import display, clear_output\n",
    "from pailab.tools_jupyter import ObjectOverviewList\n",
    "repo_overview = ObjectOverviewList(ml_repo)\n",
    "display(repo_overview.get_widget())"
   ]
  },
  {
   "cell_type": "code",
   "execution_count": null,
   "metadata": {
    "code_folding": [
     0
    ],
    "collapsed": true
   },
   "outputs": [],
   "source": [
    "#\n",
    "from pailab.tools_jupyter import ObjectView\n",
    "obj_view = ObjectView(ml_repo)\n",
    "display(obj_view.get_widget())"
   ]
  },
  {
   "cell_type": "code",
   "execution_count": null,
   "metadata": {
    "collapsed": true
   },
   "outputs": [],
   "source": [
    "depp = ml_repo.get('simple_dense/training_stat', full_object=True)\n",
    "print(depp.loss)"
   ]
  },
  {
   "cell_type": "code",
   "execution_count": null,
   "metadata": {
    "collapsed": true
   },
   "outputs": [],
   "source": [
    "import h5py"
   ]
  },
  {
   "cell_type": "markdown",
   "metadata": {},
   "source": [
    "# Consistency checks"
   ]
  },
  {
   "cell_type": "code",
   "execution_count": null,
   "metadata": {
    "collapsed": true
   },
   "outputs": [],
   "source": [
    "#\n",
    "from pailab.tools_jupyter import ConsistencyChecker\n",
    "consistency_checker = ConsistencyChecker(ml_repo)\n",
    "display(consistency_checker.get_widget())"
   ]
  },
  {
   "cell_type": "code",
   "execution_count": null,
   "metadata": {
    "collapsed": true
   },
   "outputs": [],
   "source": [
    "import pailab.tools.checker as checker\n",
    "checker.Repo.run(ml_repo)"
   ]
  },
  {
   "cell_type": "markdown",
   "metadata": {},
   "source": [
    "# Plotting"
   ]
  },
  {
   "cell_type": "markdown",
   "metadata": {},
   "source": [
    "## Plot data"
   ]
  },
  {
   "cell_type": "code",
   "execution_count": null,
   "metadata": {
    "collapsed": true
   },
   "outputs": [],
   "source": [
    "plot.histogram_data(ml_repo, {ml_repo.tree.test_data.sc_call_prices_test():'last'}, x_coordinate = 'vol_of_variance', start_index=0, end_index=10000, n_bins=100) #, y_coordinate='MEDV')"
   ]
  },
  {
   "cell_type": "markdown",
   "metadata": {},
   "source": [
    "## Measure history"
   ]
  },
  {
   "cell_type": "code",
   "execution_count": null,
   "metadata": {
    "collapsed": true
   },
   "outputs": [],
   "source": [
    "#import pailab.analysis.plot as plot\n",
    "plot.measure_history(ml_repo, measure_name=['simple_dense/measure/sc_call_prices/mse'])"
   ]
  },
  {
   "cell_type": "markdown",
   "metadata": {},
   "source": [
    "## Error vs training parameter"
   ]
  },
  {
   "cell_type": "code",
   "execution_count": null,
   "metadata": {
    "collapsed": true
   },
   "outputs": [],
   "source": [
    "#\n",
    "from pailab.tools_jupyter import Plotter\n",
    "plotter = Plotter(ml_repo)\n",
    "display(plotter.get_widget())"
   ]
  },
  {
   "cell_type": "markdown",
   "metadata": {},
   "source": [
    "## Projection"
   ]
  },
  {
   "cell_type": "code",
   "execution_count": null,
   "metadata": {
    "collapsed": true
   },
   "outputs": [],
   "source": [
    "import pailab.analysis.plot as plot\n",
    "data_1 = ml_repo.get('sc_call_prices', full_object = True)\n",
    "\n",
    "left = data_1.x_data[100,:]\n",
    "left[6] = 1.0\n",
    "right = np.copy(left)\n",
    "left[5] = 0.7\n",
    "right[5] = 1.3\n",
    "print(data_1.x_coord_names)\n",
    "#print(str(left))\n",
    "#print(str(right))\n",
    "plot.projection(ml_repo, left = left, right=right, n_steps = 500, output_index = 0)"
   ]
  },
  {
   "cell_type": "markdown",
   "metadata": {
    "collapsed": true
   },
   "source": [
    "## Histogram of errors"
   ]
  },
  {
   "cell_type": "code",
   "execution_count": null,
   "metadata": {
    "collapsed": true
   },
   "outputs": [],
   "source": [
    "plot.histogram_model_error(ml_repo, ml_repo.tree.models.simple_dense.model(), ml_repo.tree.test_data.sc_call_prices_test(), end_index = 5000, n_bins=300)"
   ]
  },
  {
   "cell_type": "markdown",
   "metadata": {},
   "source": [
    "## Error vs input data"
   ]
  },
  {
   "cell_type": "code",
   "execution_count": null,
   "metadata": {
    "collapsed": true
   },
   "outputs": [],
   "source": [
    "plot.scatter_model_error(ml_repo, ml_repo.tree.models.simple_dense.model(), \n",
    "                         [ml_repo.tree.test_data.sc_call_prices_test()], 'vol_of_variance', start_index= 0 , end_index = 5000)"
   ]
  },
  {
   "cell_type": "markdown",
   "metadata": {
    "collapsed": true
   },
   "source": [
    "## Data distribution of largest errors"
   ]
  },
  {
   "cell_type": "code",
   "execution_count": null,
   "metadata": {
    "collapsed": true
   },
   "outputs": [],
   "source": [
    "    plot.histogram_data_conditional_error(ml_repo,  ml_repo.tree.models.simple_dense.model(),\n",
    "                                          ml_repo.tree.test_data.sc_call_prices_test(), x_coordinate = 'strike', \n",
    "                                          start_index = 0, end_index=10000, percentile = 0.01, n_bins=100)"
   ]
  },
  {
   "cell_type": "markdown",
   "metadata": {},
   "source": [
    "# Test for interpretability"
   ]
  },
  {
   "cell_type": "code",
   "execution_count": null,
   "metadata": {
    "collapsed": true
   },
   "outputs": [],
   "source": [
    "import numpy as np\n",
    "from pailab.tools.tools import ModelAnalyzer"
   ]
  },
  {
   "cell_type": "code",
   "execution_count": null,
   "metadata": {
    "collapsed": true
   },
   "outputs": [],
   "source": [
    "from joblib import dump, load\n",
    "def save_load_tmp(model_analyzer, version):\n",
    "    if model_analyzer._decision_tree is None:\n",
    "        model_analyzer._decision_tree = load('C:/ml_repos/sc/tmp/'+ version +'.joblib')\n",
    "    else:\n",
    "        dump(model_analyzer._decision_tree,'C:/ml_repos/sc/tmp/'+ version +'.joblib')"
   ]
  },
  {
   "cell_type": "code",
   "execution_count": null,
   "metadata": {
    "collapsed": true,
    "scrolled": true
   },
   "outputs": [],
   "source": [
    "model_analyzer_latest = ModelAnalyzer(ml_repo)\n",
    "result_latest = model_analyzer_latest.analyze(ml_repo.tree.models.simple_dense.model(), ml_repo.tree.test_data.sc_call_prices_test(),n_samples = 40, end_index = 2000, max_depth=4)#, version='2f777012-2ea7-11e9-83cf-fc084a6691eb' , force_recalc=True)\n",
    "save_load_tmp(model_analyzer_latest, result_latest.repo_info.version)\n",
    "model_analyzer = ModelAnalyzer(ml_repo)\n",
    "result = model_analyzer.analyze(ml_repo.tree.models.simple_dense.model(), ml_repo.tree.test_data.sc_call_prices_test(), n_samples = 40, end_index = 2000,  max_depth=4, version='2f777012-2ea7-11e9-83cf-fc084a6691eb') \n",
    "save_load_tmp(model_analyzer, result.repo_info.version)"
   ]
  },
  {
   "cell_type": "code",
   "execution_count": null,
   "metadata": {
    "collapsed": true
   },
   "outputs": [],
   "source": [
    "#print(result.repo_info.name)\n",
    "for v in ['f56f62e4-3a55-11e9-8e06-fc084a6691eb', '5e9d7380-3a56-11e9-9448-fc084a6691eb', '85d064f0-3ab7-11e9-969b-fc084a6691eb']:\n",
    "    ml_repo.delete('model_analyzer_simple_dense/model_sc_call_prices_test', v)"
   ]
  },
  {
   "cell_type": "code",
   "execution_count": null,
   "metadata": {
    "code_folding": [
     4
    ],
    "collapsed": true
   },
   "outputs": [],
   "source": [
    "from plotly.offline import download_plotlyjs, init_notebook_mode, plot, iplot\n",
    "import plotly.graph_objs as go\n",
    "#import plotly.plotly as py\n",
    "\n",
    "def plot_local_model_coeff_by_coord(result):\n",
    "    data=[]\n",
    "    i=0\n",
    "    x_names = result['x_coord_names']\n",
    "    node_stat = result['node_statistics']\n",
    "    for k,v in node_stat.items():  \n",
    "        data.append(go.Bar(x=x_names,y=v['model_coefficients'], name = 'leaf ' + str(k)))\n",
    "        #data.append(go.Bar(x=['leaf ' + str(i)],y=decision_tree.tree_.value[x_][:,0], name = 'x0'))\n",
    "        #data.append(go.Bar(x=['leaf ' + str(i)],y=[decision_tree.tree_.value[x_][1,0]], name = 'x1'))\n",
    "    layout = go.Layout(\n",
    "        barmode='group'\n",
    "    )\n",
    "\n",
    "    fig = go.Figure(data=data, layout=layout)\n",
    "    iplot(fig, filename='grouped-bar')\n",
    "    \n",
    "plot_local_model_coeff_by_coord(result.result)\n",
    "plot_local_model_coeff_by_coord(result_latest.result)\n"
   ]
  },
  {
   "cell_type": "code",
   "execution_count": null,
   "metadata": {
    "code_folding": [
     0,
     23
    ],
    "collapsed": true
   },
   "outputs": [],
   "source": [
    "def plot_local_model_coeff_by_leaf(result):\n",
    "    data=[]\n",
    "    i=0\n",
    "    x_names = result['x_coord_names']\n",
    "    node_stat = result['node_statistics']\n",
    "    for i in range(len(x_names)):\n",
    "        names = []\n",
    "        y_values = []\n",
    "        k=0\n",
    "        for k,v in node_stat.items():\n",
    "            names.append('leaf ' + str(k))\n",
    "            y_values.append(v['model_coefficients'][i])\n",
    "        data.append(go.Bar(x=names,y=y_values, name = x_names[i]))\n",
    "        #data.append(go.Bar(x=['leaf ' + str(i)],y=decision_tree.tree_.value[x_][:,0], name = 'x0'))\n",
    "        #data.append(go.Bar(x=['leaf ' + str(i)],y=[decision_tree.tree_.value[x_][1,0]], name = 'x1'))\n",
    "        #i+=1\n",
    "\n",
    "    layout = go.Layout(\n",
    "        barmode='stack'\n",
    "    )\n",
    "    fig = go.Figure(data=data, layout=layout)\n",
    "    iplot(fig, filename='grouped-bar')\n",
    "    \n",
    "def depp():\n",
    "    data = []\n",
    "    num_values = []\n",
    "    mse_values = []\n",
    "    x_names = []\n",
    "    for x_ in leaf_nodes:\n",
    "        x_names.append('leaf ' + str(x_))\n",
    "        num_values.append(result[x_]['num_data_points'])\n",
    "        mse_values.append(result[x_]['mse_mean'])\n",
    "    #print(num_values)\n",
    "\n",
    "    data.append(go.Bar(x=x_names,y=num_values))\n",
    "    layout = go.Layout(\n",
    "        barmode='bar'\n",
    "    )\n",
    "    fig = go.Figure(data=data, layout=layout)\n",
    "    iplot(fig, filename='grouped-bar')\n",
    "\n",
    "\n",
    "    fig = go.Figure(data=[go.Bar(x=x_names,y=mse_values)], layout=layout)\n",
    "    iplot(fig, filename='grouped-bar')\n",
    "\n",
    "\n",
    "plot_local_model_coeff_by_leaf(result.result)\n",
    "plot_local_model_coeff_by_leaf(result_latest.result)\n"
   ]
  },
  {
   "cell_type": "code",
   "execution_count": null,
   "metadata": {
    "code_folding": [
     0
    ],
    "collapsed": true
   },
   "outputs": [],
   "source": [
    "def plot_error_per_leaf(result):\n",
    "    node_stat = result['node_statistics']\n",
    "    nodes = [i for i in range(len(node_stat))]\n",
    "    mean_error = []\n",
    "    max_error = []\n",
    "    min_error = []\n",
    "    x_coordnames = []\n",
    "    for k,v in node_stat.items():\n",
    "        x_coordnames.append('leaf ' + str(k))\n",
    "        mean_error.append(v['mse_mean'])\n",
    "        min_error.append(v['mse_min'])\n",
    "        max_error.append(v['mse_max'])\n",
    "    data = []\n",
    "    data.append(go.Scatter(x=x_coordnames, y=mean_error, name = 'mean'))\n",
    "    data.append(go.Scatter(x=x_coordnames, y=min_error, name = 'min'))\n",
    "    data.append(go.Scatter(x=x_coordnames, y=max_error, name = 'max'))\n",
    "    \n",
    "    layout = go.Layout(\n",
    "        title='local model mse',\n",
    "        xaxis=dict(title='leaf',),\n",
    "        yaxis=dict(title='')\n",
    "    )\n",
    "    fig = go.Figure(data=data, layout=layout)\n",
    "    iplot(fig, filename='grouped-bar')\n",
    "\n",
    "plot_error_per_leaf(result.result)\n",
    "plot_error_per_leaf(result_latest.result)\n",
    "#result.big_data['local_model_coeff']"
   ]
  },
  {
   "cell_type": "code",
   "execution_count": null,
   "metadata": {
    "collapsed": true
   },
   "outputs": [],
   "source": [
    "import pailab.analysis.plot as pailab_plot\n",
    "def plot_mse_quantile_data_dist(ml_repo, result, eval_data, x_coord, q = 50):\n",
    "    node_stat = result.result['node_statistics']\n",
    "    \n",
    "    data = ml_repo.get(eval_data, result.repo_info.modification_info[eval_data], full_object=True)\n",
    "    x_coord_index = data.x_coord_names.index(x_coord)\n",
    "    mse = result.big_data['mse']\n",
    "    q_result = np.percentile(mse, q)\n",
    "    \n",
    "    start_index = result.result['parameter']['start_index']\n",
    "    end_index = result.result['parameter']['end_index']\n",
    "    x=np.extract(mse>q_result, data.x_data[start_index:end_index,x_coord_index])\n",
    "    plot_data = {'title': 'histogram of ' + x_coord + ', mse > ' + str(q) + '% quantile', \n",
    "                 'x0_name' : x_coord,\n",
    "                    'data': {'':{'info':{}, 'x0': x}}}\n",
    "    pailab_plot._histogram(plot_data)\n",
    "    #return data.x_data[start_index:end_index,x_coord_index]\n",
    "       \n",
    "plot_mse_quantile_data_dist(ml_repo, result, ml_repo.tree.test_data.sc_call_prices_test(), 'expiry', q=90)\n",
    "#result.big_data['mse']"
   ]
  },
  {
   "cell_type": "code",
   "execution_count": null,
   "metadata": {
    "collapsed": true
   },
   "outputs": [],
   "source": [
    "def plot_leaf_node_data_dist(ml_repo, result, eval_data, x_coord, leaf_node):\n",
    "    plt_data = {}\n",
    "    leaf_nodes = leaf_node\n",
    "    if isinstance(leaf_nodes, str):\n",
    "        leaf_nodes = {leaf_node}\n",
    "    for leaf_node in leaf_nodes:\n",
    "        node_stat = result.result['node_statistics']\n",
    "\n",
    "        data = ml_repo.get(eval_data, result.repo_info.modification_info[eval_data], full_object=True)\n",
    "        x_coord_index = data.x_coord_names.index(x_coord)\n",
    "        data_to_leaf_index = result.big_data['data_to_leaf_index']\n",
    "\n",
    "        start_index = result.result['parameter']['start_index']\n",
    "        end_index = result.result['parameter']['end_index']\n",
    "        x=np.extract(data_to_leaf_index==leaf_node, data.x_data[start_index:end_index,x_coord_index])\n",
    "        plt_data['leaf ' + str(leaf_node)] = {'info':{}, 'x0': x}\n",
    "\n",
    "    plot_data = {'title': 'histogram of ' + x_coord + ', leafnode = ' + str(leaf_node), \n",
    "                 'x0_name' : x_coord,\n",
    "                    'data': plt_data}\n",
    "    pailab_plot._histogram(plot_data)\n",
    "plot_leaf_node_data_dist(ml_repo, result, ml_repo.tree.test_data.sc_call_prices_test(), 'expiry', leaf_node=[12,19])"
   ]
  },
  {
   "cell_type": "code",
   "execution_count": null,
   "metadata": {
    "collapsed": true
   },
   "outputs": [],
   "source": [
    "result.big_data"
   ]
  },
  {
   "cell_type": "code",
   "execution_count": 93,
   "metadata": {},
   "outputs": [
    {
     "data": {
      "text/plain": [
       "'2.9.0'"
      ]
     },
     "execution_count": 93,
     "metadata": {},
     "output_type": "execute_result"
    }
   ],
   "source": [
    "import h5py\n",
    "h5py.__version__"
   ]
  },
  {
   "cell_type": "code",
   "execution_count": 95,
   "metadata": {
    "collapsed": true
   },
   "outputs": [],
   "source": [
    "?h5py.VirtualSource"
   ]
  },
  {
   "cell_type": "code",
   "execution_count": null,
   "metadata": {
    "collapsed": true
   },
   "outputs": [],
   "source": []
  }
 ],
 "metadata": {
  "kernelspec": {
   "display_name": "Python 3",
   "language": "python",
   "name": "python3"
  },
  "language_info": {
   "codemirror_mode": {
    "name": "ipython",
    "version": 3
   },
   "file_extension": ".py",
   "mimetype": "text/x-python",
   "name": "python",
   "nbconvert_exporter": "python",
   "pygments_lexer": "ipython3",
   "version": "3.6.1"
  },
  "toc": {
   "base_numbering": 1,
   "nav_menu": {
    "height": "12px",
    "width": "252px"
   },
   "number_sections": true,
   "sideBar": true,
   "skip_h1_title": false,
   "title_cell": "Table of Contents",
   "title_sidebar": "Contents",
   "toc_cell": false,
   "toc_position": {
    "height": "843px",
    "left": "0px",
    "right": "1600px",
    "top": "106px",
    "width": "320px"
   },
   "toc_section_display": "block",
   "toc_window_display": true
  },
  "varInspector": {
   "cols": {
    "lenName": 16,
    "lenType": 16,
    "lenVar": 40
   },
   "kernels_config": {
    "python": {
     "delete_cmd_postfix": "",
     "delete_cmd_prefix": "del ",
     "library": "var_list.py",
     "varRefreshCmd": "print(var_dic_list())"
    },
    "r": {
     "delete_cmd_postfix": ") ",
     "delete_cmd_prefix": "rm(",
     "library": "var_list.r",
     "varRefreshCmd": "cat(var_dic_list()) "
    }
   },
   "types_to_exclude": [
    "module",
    "function",
    "builtin_function_or_method",
    "instance",
    "_Feature"
   ],
   "window_display": false
  }
 },
 "nbformat": 4,
 "nbformat_minor": 2
}
